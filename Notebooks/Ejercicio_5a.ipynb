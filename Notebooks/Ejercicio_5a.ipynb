{
  "nbformat": 4,
  "nbformat_minor": 0,
  "metadata": {
    "colab": {
      "provenance": [],
      "collapsed_sections": [
        "chyQ4ET9MC8z",
        "FqbF4yMeMKr9"
      ]
    },
    "kernelspec": {
      "name": "python3",
      "display_name": "Python 3"
    }
  },
  "cells": [
    {
      "cell_type": "code",
      "metadata": {
        "id": "soOxmZvkgmD5"
      },
      "source": [
        "import keras\n",
        "import numpy as np\n",
        "import matplotlib.pyplot as plt\n",
        "import matplotlib.gridspec as gridspec"
      ],
      "execution_count": 1,
      "outputs": []
    },
    {
      "cell_type": "code",
      "source": [
        "def plot_metric(history, metric):\n",
        "  plt.plot(history.history[metric], label='Training data')\n",
        "  plt.plot(history.history['val_' + metric], label='Validation data')\n",
        "  plt.title(metric)\n",
        "  plt.ylabel(metric)\n",
        "  plt.xlabel('Epoch')\n",
        "  plt.legend(loc=\"upper right\")\n",
        "  plt.show()\n",
        "\n",
        "def open_image(archivo):\n",
        "    datos = np.array(plt.imread(archivo))\n",
        "    sh=np.shape(datos)\n",
        "    datos2 = []\n",
        "    colores = []\n",
        "    for i in range(sh[0]):\n",
        "        for j in range(sh[1]):\n",
        "            color = datos[i][j][0] + datos[i][j][1] * 255 + datos[i][j][2] * 255 * 255\n",
        "\n",
        "            if(color != 16646655):\n",
        "                if not (color in colores):\n",
        "                    colores.append(color)\n",
        "                color = colores.index(color)\n",
        "\n",
        "                datos2.append([j, 1000 - i, color])\n",
        "\n",
        "    return np.array(datos2)\n",
        "\n",
        "def plot_image(P, T):\n",
        "    marcadores = {0:('+','b'), 1:('o','g'), 2:('x', 'y'), 3:('*', 'm'), 4:('.', 'r'), 5:('+', 'k')}\n",
        "\n",
        "    plt.clf()\n",
        "    gs = gridspec.GridSpec(1, 1)\n",
        "    ax = plt.subplot(gs[0, 0])\n",
        "\n",
        "    # Muestras\n",
        "    for class_value in np.unique(T):\n",
        "        x = []\n",
        "        y = []\n",
        "        for i in range(len(T)):\n",
        "            if T[i] == class_value:\n",
        "                x.append(P[i, 0])\n",
        "                y.append(P[i, 1])\n",
        "        ax.scatter(x, y, marker=marcadores[class_value][0], color=marcadores[class_value][1])\n"
      ],
      "metadata": {
        "id": "ucmwu94VAcHe"
      },
      "execution_count": 29,
      "outputs": []
    },
    {
      "cell_type": "code",
      "source": [
        "file_name = \"\" # Nombre del archivo con la imagen a analizar\n",
        "\n",
        "X = open_image(file_name)\n",
        "\n",
        "X = np.random.permutation(X)\n",
        "T = X[:, 2]    # Variable objetivo (Clase de 0 a N)\n",
        "P = X[:, 0:2]  # Variables de entrada (X y Y de los píxeles no-blancos de la imagen)\n",
        "\n",
        "# Número de clases del problema (Cantidad de colores no-blancos de la imagen)\n",
        "nclases = max(T) + 1\n",
        "\n",
        "# Crear la salida con codificación one-hot\n",
        "T_OH = [T==0]\n",
        "for i in range(1,nclases):\n",
        "  T_OH = np.concatenate( (T_OH, [T==i]), axis=0)\n",
        "T_OH = T_OH.astype(int).T\n",
        "\n",
        "# Escalar la entrada a valores [0..1]\n",
        "column_min_values = np.min(P, axis=0)\n",
        "P = (P - column_min_values) / (np.max(P, axis=0) - column_min_values)\n",
        "\n",
        "# Plotear la imagen\n",
        "plot_image(P, T)"
      ],
      "metadata": {
        "id": "aeQJEpJyI-HY"
      },
      "execution_count": null,
      "outputs": []
    },
    {
      "cell_type": "code",
      "source": [
        "# Crear una red que sea capaz de resolver el problema\n",
        "\n",
        "d_in = 2  # Número de variables de entrada. Para este ejercicio debe ser 2 ya que\n",
        "          # el dataset está formado por dos variables: el valor X y Y de cada pixel\n",
        "          # no-blanco de la imagen\n",
        "d_out = nclases # Número de salidas. La misma que la cantidad de clases (usando one_hot)\n",
        "\n",
        "modelo = keras.Sequential([\n",
        "    keras.layers.Dense(5, input_shape=(d_in,), activation=\"tanh\"),\n",
        "    keras.layers.Dense(d_out, activation=\"softmax\")\n",
        "\t])\n",
        "\n",
        "modelo.compile(\n",
        "  optimizer = keras.optimizers.SGD(learning_rate=0.1),\n",
        "  loss = 'categorical_crossentropy', metrics = ['accuracy']\n",
        ")\n",
        "\n",
        "modelo.summary()"
      ],
      "metadata": {
        "id": "skufejYTIp7Q"
      },
      "execution_count": null,
      "outputs": []
    },
    {
      "cell_type": "code",
      "source": [
        "# Entrenamiento del modelo y ploteo de las métricas\n",
        "\n",
        "history = modelo.fit(P, T_OH, epochs=200, batch_size=16, verbose=True, validation_split=0.2)\n",
        "\n",
        "plot_metric(history, \"loss\")\n",
        "plot_metric(history, \"accuracy\")"
      ],
      "metadata": {
        "id": "5pWo86G0T5Aq"
      },
      "execution_count": null,
      "outputs": []
    }
  ]
}