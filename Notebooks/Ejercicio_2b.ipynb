{
  "nbformat": 4,
  "nbformat_minor": 0,
  "metadata": {
    "colab": {
      "provenance": []
    },
    "kernelspec": {
      "name": "python3",
      "display_name": "Python 3"
    }
  },
  "cells": [
    {
      "cell_type": "code",
      "metadata": {
        "id": "rhnPbsgOHSm_"
      },
      "source": [
        "import csv\n",
        "import numpy as np\n",
        "import librosa\n",
        "import matplotlib.pyplot as plt\n",
        "import keras"
      ],
      "execution_count": 26,
      "outputs": []
    },
    {
      "cell_type": "code",
      "source": [
        "# Para descomprimir el archivo Neumonia.zip (Si se usa desde Colab)\n",
        "# Creará dos carpetas:\n",
        "#     \"test\"\n",
        "#     \"train\"\n",
        "# y dos archivos en el directorio donde se descomprima:\n",
        "#     \"test.csv\"\n",
        "#     \"train.csv\"\n",
        "\n",
        "!unzip \"Perros_y_gatos.zip\" -d \".\""
      ],
      "metadata": {
        "id": "NaSera8dqmiB"
      },
      "execution_count": null,
      "outputs": []
    },
    {
      "cell_type": "code",
      "metadata": {
        "id": "WqHvEnq9HlEY"
      },
      "source": [
        "# Lectura y visualización de un archivo de audio\n",
        "\n",
        "sfile = \"train/dog/dog_barking_0.wav\"\n",
        "\n",
        "audio_data, sample_rate = librosa.load(sfile)\n",
        "\n",
        "print(\"Longitud del vector de muestras del archivo: \" + str(len(audio_data)) + \"\\n\\n\")\n",
        "\n",
        "fig = plt.figure(figsize=(12, 4))\n",
        "plt.plot(audio_data)\n",
        "plt.show()"
      ],
      "execution_count": null,
      "outputs": []
    },
    {
      "cell_type": "code",
      "metadata": {
        "id": "wd5knD01J-bx"
      },
      "source": [
        "# Lectura del dataset completo de train\n",
        "trainfile = csv.reader(open(\"train.csv\"), delimiter='\\t')\n",
        "trainrows = [[c for c in row] for row in trainfile]\n",
        "row_count_train = len(trainrows)\n",
        "T_train = [int(c[0]) for c in trainrows]\n",
        "wavfiles = np.array(trainrows)[:, 1]"
      ],
      "execution_count": 4,
      "outputs": []
    },
    {
      "cell_type": "markdown",
      "source": [
        "#Prep 1 <BR>\n",
        "Creación del dataset dividiendo cada archivo de audio en distintas \"porciones\" de igual longitud."
      ],
      "metadata": {
        "id": "_sI0kaHiraPy"
      }
    },
    {
      "cell_type": "code",
      "metadata": {
        "id": "OiWGzVSkKSr_"
      },
      "source": [
        "longitud_porcion = 10000\n",
        "\n",
        "P = []  ; T = []\n",
        "for i in range(len(wavfiles)):\n",
        "    audio_data, sample_rate = librosa.load(wavfiles[i])\n",
        "\n",
        "    longitud = len(audio_data)\n",
        "    comienzo = 0\n",
        "    while (comienzo+longitud_porcion) < longitud:\n",
        "      data = audio_data[comienzo:(comienzo+longitud_porcion)]\n",
        "      comienzo+= longitud_porcion\n",
        "\n",
        "      P.append(data)\n",
        "      T.append(T_train[i])\n",
        "\n",
        "P = np.array(P)\n",
        "T = np.array(T)"
      ],
      "execution_count": null,
      "outputs": []
    },
    {
      "cell_type": "markdown",
      "source": [
        "#Prep 2<BR>\n",
        "Creación del dataset utilizando características espectrales de las señales de audio.\n"
      ],
      "metadata": {
        "id": "ROe9-2mhsJvC"
      }
    },
    {
      "cell_type": "code",
      "metadata": {
        "id": "yKz-v7mwV2yK"
      },
      "source": [
        "# Codificación a utilizar (puede probar con una de ellas, un subconjunto o todas a la vez)\n",
        "\n",
        "codificacion = []\n",
        "codificacion.append(\"mfcc\")    # Cepstral coefficients\n",
        "#codificacion.append(\"stft\")    # Short-Time Fourier Transform and Chroma Features\n",
        "#codificacion.append(\"mels\")    # Melspectrogram\n",
        "#codificacion.append(\"cont\")    # Spectral contrast\n",
        "#codificacion.append(\"tonn\")    # Tonnetz\n",
        "#codificacion.append(\"cent\")    # Spectral centroids\n",
        "#codificacion.append(\"band\")    # Spectral bandwidth\n",
        "#codificacion.append(\"roll\")    # Spectral rolloff\n",
        "#codificacion.append(\"zcrt\")    # Zero crossing rate\n",
        "\n",
        "P = None ; T = []\n",
        "for i in range(len(wavfiles)):\n",
        "    audio_data, sample_rate = librosa.load(wavfiles[i])\n",
        "    stft = np.abs(librosa.stft(audio_data))\n",
        "\n",
        "    features = None\n",
        "\n",
        "    if \"mfcc\" in codificacion:\n",
        "      a = librosa.feature.mfcc(y=audio_data, sr=sample_rate, n_mfcc=40).T\n",
        "      if features is None:\n",
        "        features = a\n",
        "      else:\n",
        "        features = np.concatenate((features, a), axis=1)\n",
        "\n",
        "    if \"stft\" in codificacion:\n",
        "      a = librosa.feature.chroma_stft(S=stft, sr=sample_rate).T\n",
        "      if features is None:\n",
        "        features = a\n",
        "      else:\n",
        "        features = np.concatenate((features, a), axis=1)\n",
        "\n",
        "    if \"mels\" in codificacion:\n",
        "      a = librosa.feature.melspectrogram(audio_data, sr=sample_rate).T\n",
        "      if features is None:\n",
        "        features = a\n",
        "      else:\n",
        "        features = np.concatenate((features, a), axis=1)\n",
        "\n",
        "    if \"cont\" in codificacion:\n",
        "      a = librosa.feature.spectral_contrast(S=stft, sr=sample_rate).T\n",
        "      if features is None:\n",
        "        features = a\n",
        "      else:\n",
        "        features = np.concatenate((features, a), axis=1)\n",
        "\n",
        "    if \"tonn\" in codificacion:\n",
        "      a = librosa.feature.tonnetz(y=librosa.effects.harmonic(audio_data, ), sr=sample_rate).T\n",
        "      if features is None:\n",
        "        features = a\n",
        "      else:\n",
        "        features = np.concatenate((features, a), axis=1)\n",
        "\n",
        "    if \"cent\" in codificacion:\n",
        "      a = librosa.feature.spectral_centroid(y=audio_data, sr=sample_rate).T\n",
        "      if features is None:\n",
        "        features = a\n",
        "      else:\n",
        "        features = np.concatenate((features, a), axis=1)\n",
        "\n",
        "    if \"band\" in codificacion:\n",
        "      a = librosa.feature.spectral_bandwidth(y=audio_data, sr=sample_rate).T\n",
        "      if features is None:\n",
        "        features = a\n",
        "      else:\n",
        "        features = np.concatenate((features, a), axis=1)\n",
        "\n",
        "    if \"roll\" in codificacion:\n",
        "      a = librosa.feature.spectral_rolloff(y=audio_data, sr=sample_rate).T\n",
        "      if features is None:\n",
        "        features = a\n",
        "      else:\n",
        "        features = np.concatenate((features, a), axis=1)\n",
        "\n",
        "    if \"zcrt\" in codificacion:\n",
        "      a = librosa.feature.zero_crossing_rate(audio_data).T\n",
        "      if features is None:\n",
        "        features = a\n",
        "      else:\n",
        "        features = np.concatenate((features, a), axis=1)\n",
        "\n",
        "    for j in range(features.shape[0]):\n",
        "      if P is None:\n",
        "        P = features\n",
        "      else:\n",
        "        P = np.concatenate( (P, features[j,:][np.newaxis]) , axis = 0)\n",
        "      T.append(T_train[i])\n",
        "\n",
        "T = np.array(T)"
      ],
      "execution_count": 32,
      "outputs": []
    },
    {
      "cell_type": "markdown",
      "source": [
        "#Prep 3<BR>\n",
        "Creación del dataset utilizando el promedio de las características espectrales de las señales de audio.\n",
        "Simplifica la tarea de testing, ya que se genera un único vector de features por archivo."
      ],
      "metadata": {
        "id": "Wf_EaFQOwCYc"
      }
    },
    {
      "cell_type": "code",
      "metadata": {
        "id": "FTthZEfuWDja"
      },
      "source": [
        "P = [] ; T = []\n",
        "for i in range(len(wavfiles)):\n",
        "    audio_data, sample_rate = librosa.load(wavfiles[i])\n",
        "    stft = np.abs(librosa.stft(audio_data))\n",
        "\n",
        "    features = []\n",
        "\n",
        "    if \"mfcc\" in codificacion:\n",
        "      a = librosa.feature.mfcc(y=audio_data, sr=sample_rate, n_mfcc=40).T\n",
        "      if features is None:\n",
        "        features = np.mean(a, axis=0)\n",
        "      else:\n",
        "        features = np.concatenate( (features, np.mean(a, axis=0)) )\n",
        "\n",
        "    if \"stft\" in codificacion:\n",
        "      a = librosa.feature.chroma_stft(S=stft, sr=sample_rate).T\n",
        "      if features is None:\n",
        "        features = np.mean(a, axis=0)\n",
        "      else:\n",
        "        features = np.concatenate( (features, np.mean(a, axis=0)) )\n",
        "\n",
        "    if \"mels\" in codificacion:\n",
        "      a = librosa.feature.melspectrogram(audio_data, sr=sample_rate).T\n",
        "      if features is None:\n",
        "        features = np.mean(a, axis=0)\n",
        "      else:\n",
        "        features = np.concatenate( (features, np.mean(a, axis=0)) )\n",
        "\n",
        "    if \"cont\" in codificacion:\n",
        "      a = librosa.feature.spectral_contrast(S=stft, sr=sample_rate).T\n",
        "      if features is None:\n",
        "        features = np.mean(a, axis=0)\n",
        "      else:\n",
        "        features = np.concatenate( (features, np.mean(a, axis=0)) )\n",
        "\n",
        "    if \"tonn\" in codificacion:\n",
        "      a = librosa.feature.tonnetz(y=librosa.effects.harmonic(audio_data, ), sr=sample_rate).T\n",
        "      if features is None:\n",
        "        features = np.mean(a, axis=0)\n",
        "      else:\n",
        "        features = np.concatenate( (features, np.mean(a, axis=0)) )\n",
        "\n",
        "    if \"cent\" in codificacion:\n",
        "      a = librosa.feature.spectral_centroid(y=audio_data, sr=sample_rate).T\n",
        "      if features is None:\n",
        "        features = np.mean(a, axis=0)\n",
        "      else:\n",
        "        features = np.concatenate( (features, np.mean(a, axis=0)) )\n",
        "\n",
        "    if \"band\" in codificacion:\n",
        "      a = librosa.feature.spectral_bandwidth(y=audio_data, sr=sample_rate).T\n",
        "      if features is None:\n",
        "        features = np.mean(a, axis=0)\n",
        "      else:\n",
        "        features = np.concatenate( (features, np.mean(a, axis=0)) )\n",
        "\n",
        "    if \"roll\" in codificacion:\n",
        "      a = librosa.feature.spectral_rolloff(y=audio_data, sr=sample_rate).T\n",
        "      if features is None:\n",
        "        features = np.mean(a, axis=0)\n",
        "      else:\n",
        "        features = np.concatenate( (features, np.mean(a, axis=0)) )\n",
        "\n",
        "    if \"zcrt\" in codificacion:\n",
        "      a = librosa.feature.zero_crossing_rate(audio_data).T\n",
        "      if features is None:\n",
        "        features = np.mean(a, axis=0)\n",
        "      else:\n",
        "        features = np.concatenate( (features, np.mean(a, axis=0)) )\n",
        "\n",
        "    P.append(features)\n",
        "    T.append(T_train[i])\n",
        "\n",
        "P = np.array(P)\n",
        "T = np.array(T)\n",
        "print(P.shape)"
      ],
      "execution_count": null,
      "outputs": []
    },
    {
      "cell_type": "markdown",
      "source": [
        "#Entrenamiento del modelo\n",
        "Solo usar una preparación de los datos (Prep1 o Prep2 o Prep3)"
      ],
      "metadata": {
        "id": "uP6kvhdY6iQE"
      }
    },
    {
      "cell_type": "code",
      "source": [
        "# Mezclar las muestras\n",
        "inds = np.arange(len(T))\n",
        "inds = np.random.permutation(inds)\n",
        "P = P[inds]\n",
        "T = T[inds]\n",
        "print(P.shape)\n",
        "print(T.shape)"
      ],
      "metadata": {
        "id": "Zt4-Kdeq_G_5"
      },
      "execution_count": null,
      "outputs": []
    },
    {
      "cell_type": "code",
      "source": [
        "d_in = P.shape[1]\n",
        "d_out = 1 # Clasificación binaria\n",
        "\n",
        "modelo = keras.Sequential([\n",
        "    keras.layers.Dense(5, input_shape=(d_in,), activation= 'tanh'),\n",
        "    keras.layers.Dense(d_out, activation=\"sigmoid\")\n",
        "])\n",
        "\n",
        "modelo.compile(\n",
        "  optimizer = keras.optimizers.SGD(learning_rate=0.01),\n",
        "  loss = 'binary_crossentropy', metrics = ['accuracy']\n",
        ")\n",
        "\n",
        "modelo.summary()"
      ],
      "metadata": {
        "id": "z4cWIRGl9xhi"
      },
      "execution_count": null,
      "outputs": []
    },
    {
      "cell_type": "code",
      "source": [
        "history = modelo.fit(P, T, epochs=3, batch_size=16, verbose=True, validation_split=0.2)"
      ],
      "metadata": {
        "id": "8KUvTeke-iSa"
      },
      "execution_count": null,
      "outputs": []
    }
  ]
}