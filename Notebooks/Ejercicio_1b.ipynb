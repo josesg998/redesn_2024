{
  "nbformat": 4,
  "nbformat_minor": 0,
  "metadata": {
    "colab": {
      "provenance": [],
      "gpuType": "T4"
    },
    "kernelspec": {
      "name": "python3",
      "display_name": "Python 3"
    },
    "language_info": {
      "name": "python"
    },
    "accelerator": "GPU"
  },
  "cells": [
    {
      "cell_type": "code",
      "execution_count": 4,
      "metadata": {
        "id": "Kt9ZkWa9XtGW"
      },
      "outputs": [],
      "source": [
        "import numpy as np\n",
        "import sklearn.metrics\n",
        "import keras\n",
        "from keras.preprocessing.image import ImageDataGenerator"
      ]
    },
    {
      "cell_type": "code",
      "source": [
        "# Para descomprimir el archivo Neumonia.zip (Si se usa desde Colab)\n",
        "# Creará dos carpetas:\n",
        "#     \"test\"\n",
        "#     \"train\"\n",
        "\n",
        "!unzip \"Neumonia.zip\" -d \".\""
      ],
      "metadata": {
        "id": "JrtDutst8PF7"
      },
      "execution_count": null,
      "outputs": []
    },
    {
      "cell_type": "code",
      "source": [
        "# Generadores\n",
        "# El parámetro rescale se encarga de escalar los valores del rango [0..255] a [0..1]\n",
        "train_datagen = ImageDataGenerator(rescale=1.0/255)\n",
        "test_datagen = ImageDataGenerator(rescale=1.0/255)\n",
        "\n",
        "train_folderpath = \"train/\"\n",
        "test_folderpath = \"test/\"\n",
        "\n",
        "# Tamaño de las imágenes a procesar (resized)\n",
        "alto, ancho = 32, 32\n",
        "canales = 3 # número de canales\n",
        "\n",
        "batch_size = 24\n",
        "\n",
        "print(\"Train data\")\n",
        "train_generator = train_datagen.flow_from_directory(\n",
        "    train_folderpath, # directorio de donde cargar las imagenes (train)\n",
        "    target_size=(alto, ancho),\n",
        "    batch_size=batch_size,\n",
        "    class_mode='binary'\n",
        "    )\n",
        "\n",
        "n_train = train_generator.samples\n",
        "\n",
        "print(\"\\n\\nTest data\")\n",
        "test_generator = test_datagen.flow_from_directory(\n",
        "    test_folderpath, # directorio de donde cargar las imagenes (val)\n",
        "    target_size=(alto, ancho),\n",
        "    batch_size=batch_size,\n",
        "    class_mode='binary')\n",
        "\n",
        "n_test = test_generator.samples\n",
        "\n",
        "print(\"\\n\\nCodificación de clases\")\n",
        "class_dict = train_generator.class_indices # un diccionario donde \"key\" es el nombre de la clase (nombre del directorio) y \"value\" es el valor de la clase (0,1, etc.)\n",
        "print(class_dict)\n",
        "\n",
        "class_dict_inverse = {}  # Construyo un diccionario donde \"key\" es el valor de la clase (0, 1, etc.) y \"value\" es el nombre de la clase (nombre del directorio)\n",
        "for key in class_dict:\n",
        "    value = class_dict[key]\n",
        "    class_dict_inverse[value] = key"
      ],
      "metadata": {
        "id": "dW-Ow2t9YD4s"
      },
      "execution_count": null,
      "outputs": []
    },
    {
      "cell_type": "code",
      "source": [
        "d_in = (alto, ancho, canales)\n",
        "d_out = 1 # Clasificación binaria\n",
        "\n",
        "modelo = keras.Sequential([\n",
        "    keras.layers.Conv2D(8, input_shape=d_in, kernel_size=3, padding='same', activation=\"relu\"),\n",
        "    keras.layers.MaxPooling2D(pool_size=(2, 2), padding='same'),\n",
        "    keras.layers.Flatten(),\n",
        "    keras.layers.Dense(4, activation= 'tanh'),\n",
        "    keras.layers.Dense(d_out, activation=\"sigmoid\")\n",
        "\t])\n",
        "\n",
        "modelo.compile(\n",
        "  optimizer = keras.optimizers.SGD(learning_rate=0.01),\n",
        "  loss = 'binary_crossentropy', metrics = ['accuracy']\n",
        ")\n",
        "\n",
        "modelo.summary()"
      ],
      "metadata": {
        "id": "7vuqcnIRYLDz"
      },
      "execution_count": null,
      "outputs": []
    },
    {
      "cell_type": "code",
      "source": [
        "history = modelo.fit(train_generator, steps_per_epoch = n_train // batch_size,\n",
        "                    epochs=5,  validation_data = test_generator  )"
      ],
      "metadata": {
        "id": "CBjZnwQzYSg1"
      },
      "execution_count": null,
      "outputs": []
    },
    {
      "cell_type": "code",
      "source": [
        "test_generator.reset()\n",
        "results = modelo.predict(test_generator)"
      ],
      "metadata": {
        "id": "YQNXyIocFQJr"
      },
      "execution_count": null,
      "outputs": []
    },
    {
      "cell_type": "code",
      "source": [
        "test_file_names = test_generator.filenames\n",
        "test_labels = test_generator.labels # clase de cada muestra de test\n",
        "\n",
        "preds = np.zeros(results.shape)\n",
        "aciertos = 0\n",
        "umbral = 0.5\n",
        "for index, pred in enumerate(results):\n",
        "    if(pred < umbral):\n",
        "        preds[index] = 0\n",
        "    else:\n",
        "        if(pred > (1 - umbral)):\n",
        "            preds[index] = 1\n",
        "    if (preds[index] == test_labels[index]):\n",
        "      aciertos = aciertos + 1\n",
        "print(f\"{aciertos} aciertos en {test_labels.shape[0]} muestras de test.\")\n",
        "print(f\"Accuracy: {float(aciertos)/test_labels.shape[0]}\")"
      ],
      "metadata": {
        "id": "o3q-KXgUikwk"
      },
      "execution_count": null,
      "outputs": []
    },
    {
      "cell_type": "code",
      "source": [
        "print('TRUE CLASS\\tPREDICTED CLASS\\tFILENAME')\n",
        "for i, p in enumerate(preds):\n",
        "    pred_index = p[0]\n",
        "    pred_class = class_dict_inverse[pred_index]\n",
        "    true_class = class_dict_inverse[test_labels[i]]\n",
        "    file = test_file_names[i]\n",
        "    print(f'{true_class}\\t{pred_class}\\t{file}')"
      ],
      "metadata": {
        "id": "gchgv71ci5eC"
      },
      "execution_count": null,
      "outputs": []
    },
    {
      "cell_type": "code",
      "source": [
        "sklearn.metrics.ConfusionMatrixDisplay.from_predictions(test_labels, preds)"
      ],
      "metadata": {
        "id": "Zswp4qdOi7hS"
      },
      "execution_count": null,
      "outputs": []
    }
  ]
}