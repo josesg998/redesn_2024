{
  "cells": [
    {
      "cell_type": "code",
      "execution_count": null,
      "metadata": {
        "colab": {
          "base_uri": "https://localhost:8080/"
        },
        "id": "yqCSR24yC10o",
        "outputId": "28c9ec76-9679-4c99-f3c3-5e2a40a0ee42"
      },
      "outputs": [
        {
          "output_type": "stream",
          "name": "stdout",
          "text": [
            "Model: \"sequential\"\n",
            "_________________________________________________________________\n",
            " Layer (type)                Output Shape              Param #   \n",
            "=================================================================\n",
            " conv2d (Conv2D)             (None, 26, 26, 32)        320       \n",
            "                                                                 \n",
            " max_pooling2d (MaxPooling2  (None, 13, 13, 32)        0         \n",
            " D)                                                              \n",
            "                                                                 \n",
            " conv2d_1 (Conv2D)           (None, 11, 11, 64)        18496     \n",
            "                                                                 \n",
            " max_pooling2d_1 (MaxPoolin  (None, 5, 5, 64)          0         \n",
            " g2D)                                                            \n",
            "                                                                 \n",
            " conv2d_2 (Conv2D)           (None, 3, 3, 64)          36928     \n",
            "                                                                 \n",
            " flatten (Flatten)           (None, 576)               0         \n",
            "                                                                 \n",
            " dense (Dense)               (None, 64)                36928     \n",
            "                                                                 \n",
            " dense_1 (Dense)             (None, 10)                650       \n",
            "                                                                 \n",
            "=================================================================\n",
            "Total params: 93322 (364.54 KB)\n",
            "Trainable params: 93322 (364.54 KB)\n",
            "Non-trainable params: 0 (0.00 Byte)\n",
            "_________________________________________________________________\n"
          ]
        }
      ],
      "source": [
        "import tensorflow as tf\n",
        "from tensorflow import keras\n",
        "from tensorflow.keras import layers\n",
        "\n",
        "model = keras.Sequential([\n",
        "  layers.Conv2D(32, (3, 3), activation='relu', input_shape=(28, 28, 1)),\n",
        "  layers.MaxPooling2D((2, 2)),\n",
        "  layers.Conv2D(64, (3, 3), activation='relu'),\n",
        "  layers.MaxPooling2D((2, 2)),\n",
        "  layers.Conv2D(64, (3, 3), activation='relu'),\n",
        "  layers.Flatten(),\n",
        "  layers.Dense(64, activation='relu'),\n",
        "  layers.Dense(10, activation='softmax')\n",
        "])\n",
        "\n",
        "model.compile(optimizer='adam',\n",
        "              loss='categorical_crossentropy',\n",
        "              metrics=['accuracy'])\n",
        "\n",
        "model.summary()"
      ]
    },
    {
      "cell_type": "code",
      "source": [
        "import pandas as pd\n",
        "import numpy as np\n",
        "from sklearn.model_selection import train_test_split\n",
        "from keras.utils import to_categorical\n",
        "\n",
        "url = 'https://pjreddie.com/media/files/mnist_test.csv'\n",
        "\n",
        "dataframe = pd.read_csv(url, header=None)\n",
        "\n",
        "X = dataframe.iloc[:, 1:].values.astype('float32')\n",
        "y = dataframe.iloc[:, 0].values.astype('int32')\n",
        "\n",
        "X = np.reshape(X, (X.shape[0], 28, 28, 1))\n",
        "y = np.reshape(y, (y.shape[0], 1))\n",
        "\n",
        "X /= 255\n",
        "\n",
        "X_train, X_test, y_train, y_test = train_test_split(X, y, test_size=0.2)\n",
        "\n",
        "y_train = to_categorical(y_train)\n",
        "y_test = to_categorical(y_test)"
      ],
      "metadata": {
        "id": "K0CtSMu9HAgA"
      },
      "execution_count": null,
      "outputs": []
    },
    {
      "cell_type": "code",
      "execution_count": null,
      "metadata": {
        "id": "kjgDQSwCFKKn",
        "colab": {
          "base_uri": "https://localhost:8080/"
        },
        "outputId": "f3120538-7497-435d-8df2-9f3547a2cc6b"
      },
      "outputs": [
        {
          "output_type": "execute_result",
          "data": {
            "text/plain": [
              "(array([[0., 0., 1., ..., 0., 0., 0.],\n",
              "        [0., 0., 1., ..., 0., 0., 0.],\n",
              "        [1., 0., 0., ..., 0., 0., 0.],\n",
              "        ...,\n",
              "        [0., 0., 0., ..., 0., 0., 0.],\n",
              "        [0., 0., 0., ..., 0., 0., 0.],\n",
              "        [0., 0., 0., ..., 1., 0., 0.]], dtype=float32),\n",
              " array([[0., 0., 0., ..., 1., 0., 0.],\n",
              "        [0., 0., 0., ..., 0., 0., 0.],\n",
              "        [1., 0., 0., ..., 0., 0., 0.],\n",
              "        ...,\n",
              "        [0., 1., 0., ..., 0., 0., 0.],\n",
              "        [0., 0., 0., ..., 0., 0., 0.],\n",
              "        [0., 0., 0., ..., 0., 0., 0.]], dtype=float32))"
            ]
          },
          "metadata": {},
          "execution_count": 3
        }
      ],
      "source": [
        "y_train, y_test"
      ]
    },
    {
      "cell_type": "code",
      "execution_count": null,
      "metadata": {
        "id": "4KLY0xFgDjns",
        "colab": {
          "base_uri": "https://localhost:8080/"
        },
        "outputId": "93d3b666-92c8-4136-c0c4-16797c893ea8"
      },
      "outputs": [
        {
          "output_type": "stream",
          "name": "stdout",
          "text": [
            "Epoch 1/10\n",
            "250/250 [==============================] - 27s 79ms/step - loss: 0.4843 - accuracy: 0.8480 - val_loss: 0.1753 - val_accuracy: 0.9385\n",
            "Epoch 2/10\n",
            "250/250 [==============================] - 16s 66ms/step - loss: 0.1130 - accuracy: 0.9640 - val_loss: 0.0994 - val_accuracy: 0.9700\n",
            "Epoch 3/10\n",
            "250/250 [==============================] - 15s 61ms/step - loss: 0.0661 - accuracy: 0.9787 - val_loss: 0.0742 - val_accuracy: 0.9770\n",
            "Epoch 4/10\n",
            "250/250 [==============================] - 11s 44ms/step - loss: 0.0438 - accuracy: 0.9843 - val_loss: 0.0780 - val_accuracy: 0.9750\n",
            "Epoch 5/10\n",
            "250/250 [==============================] - 9s 38ms/step - loss: 0.0407 - accuracy: 0.9879 - val_loss: 0.0595 - val_accuracy: 0.9815\n",
            "Epoch 6/10\n",
            "250/250 [==============================] - 14s 57ms/step - loss: 0.0206 - accuracy: 0.9931 - val_loss: 0.0681 - val_accuracy: 0.9750\n",
            "Epoch 7/10\n",
            "250/250 [==============================] - 13s 54ms/step - loss: 0.0133 - accuracy: 0.9951 - val_loss: 0.0710 - val_accuracy: 0.9805\n",
            "Epoch 8/10\n",
            "250/250 [==============================] - 9s 37ms/step - loss: 0.0202 - accuracy: 0.9931 - val_loss: 0.0641 - val_accuracy: 0.9775\n",
            "Epoch 9/10\n",
            "250/250 [==============================] - 8s 33ms/step - loss: 0.0116 - accuracy: 0.9964 - val_loss: 0.0546 - val_accuracy: 0.9850\n",
            "Epoch 10/10\n",
            "250/250 [==============================] - 12s 47ms/step - loss: 0.0059 - accuracy: 0.9981 - val_loss: 0.0845 - val_accuracy: 0.9755\n",
            "63/63 [==============================] - 1s 9ms/step - loss: 0.0845 - accuracy: 0.9755\n",
            "Loss: 0.0845\n",
            "Accuracy: 0.9755\n"
          ]
        }
      ],
      "source": [
        "model.fit(X_train, y_train, epochs=10, batch_size=32, validation_data=(X_test, y_test))\n",
        "\n",
        "loss, accuracy = model.evaluate(X_test, y_test)\n",
        "print(f'Loss: {loss:.4f}')\n",
        "print(f'Accuracy: {accuracy:.4f}')"
      ]
    },
    {
      "cell_type": "code",
      "execution_count": null,
      "metadata": {
        "id": "2bzEw2XrEDF5"
      },
      "outputs": [],
      "source": [
        "import matplotlib.pyplot as plt\n",
        "import numpy as np\n",
        "\n",
        "# Función que recibe una imagen de entrada y un modelo de red convolucional y devuelve las activaciones intermedias\n",
        "def get_activations(image, model):\n",
        "  activations = []\n",
        "  for layer in model.layers:\n",
        "    # Si la capa es convolucional o de pooling, extraer la salida de la capa\n",
        "    if isinstance(layer, (layers.Conv2D, layers.MaxPooling2D)):\n",
        "      aux_model = keras.Model(inputs=model.input, outputs=layer.output)\n",
        "      output = aux_model.predict(image)\n",
        "      activations.append(output)\n",
        "  return activations\n",
        "\n",
        "# Función que recibe una lista de activaciones y las grafica en una cuadrícula\n",
        "def plot_activations(activations, n_min=14):\n",
        "  plt.figure(figsize=(15, 15))\n",
        "  for i, activation in enumerate(activations):\n",
        "    n_filters = activation.shape[-1]\n",
        "    n_rows = int(np.sqrt(n_filters))\n",
        "    n_cols = int(np.ceil(n_filters / n_rows))\n",
        "    # Ordenar los filtros por magnitud\n",
        "    filters = np.argsort(np.sum(np.abs(activation), axis=(0, 1, 2)))[::-1]\n",
        "    # Plotear los primeros n_min filtros\n",
        "    for j in range(min(14, n_filters)):\n",
        "      plt.subplot(n_rows, n_cols * len(activations), i * n_cols * len(activations) + j + 1)\n",
        "      plt.imshow(activation[0, :, :, filters[j]], cmap='Reds')\n",
        "      plt.axis('off')\n",
        "  plt.show()"
      ]
    },
    {
      "cell_type": "code",
      "source": [
        "index = np.random.randint(0, len(X_test))\n",
        "image = X_test[index].reshape(28, 28)\n",
        "\n",
        "plt.imshow(image, cmap='gray')\n",
        "plt.title(f'Image {index} - Label: {y_test[index].argmax()}')\n",
        "plt.axis('off')\n",
        "plt.show()"
      ],
      "metadata": {
        "colab": {
          "base_uri": "https://localhost:8080/",
          "height": 428
        },
        "id": "wB-MsGopHpgM",
        "outputId": "0f1effa5-7f29-4a03-b029-ac428d0dd65c"
      },
      "execution_count": null,
      "outputs": [
        {
          "output_type": "display_data",
          "data": {
            "text/plain": [
              "<Figure size 640x480 with 1 Axes>"
            ],
            "image/png": "[encoded data removed]"
          },
          "metadata": {}
        }
      ]
    },
    {
      "cell_type": "code",
      "source": [
        "image.shape"
      ],
      "metadata": {
        "colab": {
          "base_uri": "https://localhost:8080/"
        },
        "id": "kl_u3h9fI4Pw",
        "outputId": "1f51efde-82f7-4452-8982-3697049e178b"
      },
      "execution_count": null,
      "outputs": [
        {
          "output_type": "execute_result",
          "data": {
            "text/plain": [
              "(28, 28)"
            ]
          },
          "metadata": {},
          "execution_count": 17
        }
      ]
    },
    {
      "cell_type": "code",
      "source": [
        "# Forzamos que los datos tengan forma (batch_size, height, width, channels)\n",
        "data = image\n",
        "data = data.reshape((1, data.shape[0], data.shape[1], 1))"
      ],
      "metadata": {
        "id": "kmram8ryI6TV"
      },
      "execution_count": null,
      "outputs": []
    },
    {
      "cell_type": "code",
      "source": [
        "data.shape"
      ],
      "metadata": {
        "colab": {
          "base_uri": "https://localhost:8080/"
        },
        "id": "XdHHGVE-K8of",
        "outputId": "a0721ed0-65b5-421a-de99-f4fa7a5586de"
      },
      "execution_count": null,
      "outputs": [
        {
          "output_type": "execute_result",
          "data": {
            "text/plain": [
              "(1, 28, 28, 1)"
            ]
          },
          "metadata": {},
          "execution_count": 19
        }
      ]
    },
    {
      "cell_type": "code",
      "source": [
        "activations = get_activations(data, model)"
      ],
      "metadata": {
        "colab": {
          "base_uri": "https://localhost:8080/"
        },
        "id": "YxnOcadfHlkX",
        "outputId": "019d4288-245d-4942-a9f2-df215718eb1c"
      },
      "execution_count": null,
      "outputs": [
        {
          "output_type": "stream",
          "name": "stderr",
          "text": [
            "WARNING:tensorflow:6 out of the last 6 calls to <function Model.make_predict_function.<locals>.predict_function at 0x7f2369673370> triggered tf.function retracing. Tracing is expensive and the excessive number of tracings could be due to (1) creating @tf.function repeatedly in a loop, (2) passing tensors with different shapes, (3) passing Python objects instead of tensors. For (1), please define your @tf.function outside of the loop. For (2), @tf.function has reduce_retracing=True option that can avoid unnecessary retracing. For (3), please refer to https://www.tensorflow.org/guide/function#controlling_retracing and https://www.tensorflow.org/api_docs/python/tf/function for  more details.\n"
          ]
        },
        {
          "output_type": "stream",
          "name": "stdout",
          "text": [
            "1/1 [==============================] - 0s 48ms/step\n",
            "1/1 [==============================] - 0s 45ms/step\n",
            "1/1 [==============================] - 0s 61ms/step\n",
            "1/1 [==============================] - 0s 56ms/step\n",
            "1/1 [==============================] - 0s 65ms/step\n"
          ]
        }
      ]
    },
    {
      "cell_type": "code",
      "source": [
        "len(activations)"
      ],
      "metadata": {
        "colab": {
          "base_uri": "https://localhost:8080/"
        },
        "id": "Rk5K4KH-O_l8",
        "outputId": "3eda2c63-9247-456d-835d-e48d673d39c9"
      },
      "execution_count": null,
      "outputs": [
        {
          "output_type": "execute_result",
          "data": {
            "text/plain": [
              "5"
            ]
          },
          "metadata": {},
          "execution_count": 21
        }
      ]
    },
    {
      "cell_type": "code",
      "source": [
        "model.layers[0].output"
      ],
      "metadata": {
        "colab": {
          "base_uri": "https://localhost:8080/"
        },
        "id": "8P1Odnf3OQTU",
        "outputId": "99d10177-9c6d-4b1f-d311-b0e100379b99"
      },
      "execution_count": null,
      "outputs": [
        {
          "output_type": "execute_result",
          "data": {
            "text/plain": [
              "<KerasTensor: shape=(None, 26, 26, 32) dtype=float32 (created by layer 'conv2d')>"
            ]
          },
          "metadata": {},
          "execution_count": 22
        }
      ]
    },
    {
      "cell_type": "code",
      "source": [
        "plot_activations([activations[0]])"
      ],
      "metadata": {
        "colab": {
          "base_uri": "https://localhost:8080/",
          "height": 417
        },
        "id": "G5z0pBalJfV8",
        "outputId": "dc746864-4ac9-45ff-a7f7-5f464e1a453e"
      },
      "execution_count": null,
      "outputs": [
        {
          "output_type": "display_data",
          "data": {
            "text/plain": [
              "<Figure size 1500x1500 with 14 Axes>"
            ],
            "image/png": "[encoded data removed]"
          },
          "metadata": {}
        }
      ]
    },
    {
      "cell_type": "code",
      "source": [],
      "metadata": {
        "id": "CnK2-tQUPCbp"
      },
      "execution_count": null,
      "outputs": []
    }
  ],
  "metadata": {
    "colab": {
      "provenance": []
    },
    "kernelspec": {
      "display_name": "Python 3",
      "name": "python3"
    },
    "language_info": {
      "name": "python"
    }
  },
  "nbformat": 4,
  "nbformat_minor": 0
}