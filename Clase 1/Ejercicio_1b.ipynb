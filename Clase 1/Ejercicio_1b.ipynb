{
  "nbformat": 4,
  "nbformat_minor": 0,
  "metadata": {
    "colab": {
      "provenance": [],
      "gpuType": "T4",
      "include_colab_link": true
    },
    "kernelspec": {
      "name": "python3",
      "display_name": "Python 3"
    },
    "language_info": {
      "name": "python"
    },
    "accelerator": "GPU"
  },
  "cells": [
    {
      "cell_type": "markdown",
      "metadata": {
        "id": "view-in-github",
        "colab_type": "text"
      },
      "source": [
        "<a href=\"https://colab.research.google.com/github/josesg998/redesn_2024/blob/main/Notebooks/Ejercicio_1b.ipynb\" target=\"_parent\"><img src=\"https://colab.research.google.com/assets/colab-badge.svg\" alt=\"Open In Colab\"/></a>"
      ]
    },
    {
      "cell_type": "code",
      "execution_count": 1,
      "metadata": {
        "id": "Kt9ZkWa9XtGW"
      },
      "outputs": [],
      "source": [
        "import numpy as np\n",
        "import sklearn.metrics\n",
        "import keras\n",
        "from keras.preprocessing.image import ImageDataGenerator"
      ]
    },
    {
      "cell_type": "code",
      "source": [
        "from google.colab import drive\n",
        "drive.mount('/content/drive')"
      ],
      "metadata": {
        "colab": {
          "base_uri": "https://localhost:8080/"
        },
        "id": "og5MQuZfyjXV",
        "outputId": "deee2ac8-e770-4837-d0cd-c13afc94eee3"
      },
      "execution_count": 2,
      "outputs": [
        {
          "output_type": "stream",
          "name": "stdout",
          "text": [
            "Mounted at /content/drive\n"
          ]
        }
      ]
    },
    {
      "cell_type": "code",
      "source": [
        "# Para descomprimir el archivo Neumonia.zip (Si se usa desde Colab)\n",
        "# Creará dos carpetas:\n",
        "#     \"test\"\n",
        "#     \"train\"\n",
        "\n",
        "!unzip \"/content/drive/MyDrive/Neumonia.zip\" -d \".\"\n",
        "drive.flush_and_unmount()"
      ],
      "metadata": {
        "id": "JrtDutst8PF7"
      },
      "execution_count": null,
      "outputs": []
    },
    {
      "cell_type": "code",
      "source": [
        "# Generadores\n",
        "# El parámetro rescale se encarga de escalar los valores del rango [0..255] a [0..1]\n",
        "train_datagen = ImageDataGenerator(rescale=1.0/255)\n",
        "test_datagen = ImageDataGenerator(rescale=1.0/255)\n",
        "\n",
        "train_folderpath = \"train/\"\n",
        "test_folderpath = \"test/\"\n",
        "\n",
        "# Tamaño de las imágenes a procesar (resized)\n",
        "alto, ancho = 32, 32\n",
        "canales = 3 # número de canales\n",
        "\n",
        "batch_size = 24\n",
        "\n",
        "print(\"Train data\")\n",
        "train_generator = train_datagen.flow_from_directory(\n",
        "    train_folderpath, # directorio de donde cargar las imagenes (train)\n",
        "    target_size=(alto, ancho),\n",
        "    batch_size=batch_size,\n",
        "    class_mode='binary'\n",
        "    )\n",
        "\n",
        "n_train = train_generator.samples\n",
        "\n",
        "print(\"\\n\\nTest data\")\n",
        "test_generator = test_datagen.flow_from_directory(\n",
        "    test_folderpath, # directorio de donde cargar las imagenes (val)\n",
        "    target_size=(alto, ancho),\n",
        "    batch_size=batch_size,\n",
        "    class_mode='binary')\n",
        "\n",
        "n_test = test_generator.samples\n",
        "\n",
        "print(\"\\n\\nCodificación de clases\")\n",
        "class_dict = train_generator.class_indices # un diccionario donde \"key\" es el nombre de la clase (nombre del directorio) y \"value\" es el valor de la clase (0,1, etc.)\n",
        "print(class_dict)\n",
        "\n",
        "class_dict_inverse = {}  # Construyo un diccionario donde \"key\" es el valor de la clase (0, 1, etc.) y \"value\" es el nombre de la clase (nombre del directorio)\n",
        "for key in class_dict:\n",
        "    value = class_dict[key]\n",
        "    class_dict_inverse[value] = key"
      ],
      "metadata": {
        "id": "dW-Ow2t9YD4s",
        "colab": {
          "base_uri": "https://localhost:8080/"
        },
        "outputId": "d569d691-5964-4e7e-ef50-547891624a99"
      },
      "execution_count": 6,
      "outputs": [
        {
          "output_type": "stream",
          "name": "stdout",
          "text": [
            "Train data\n",
            "Found 5088 images belonging to 2 classes.\n",
            "\n",
            "\n",
            "Test data\n",
            "Found 256 images belonging to 2 classes.\n",
            "\n",
            "\n",
            "Codificación de clases\n",
            "{'neumonia': 0, 'normal': 1}\n"
          ]
        }
      ]
    },
    {
      "cell_type": "code",
      "source": [
        "d_in = (alto, ancho, canales)\n",
        "d_out = 1 # Clasificación binaria\n",
        "\n",
        "modelo = keras.Sequential([\n",
        "    keras.layers.Conv2D(8, input_shape=d_in, kernel_size=3, padding='same', activation=\"relu\"),\n",
        "    keras.layers.MaxPooling2D(pool_size=(2, 2), padding='same'),\n",
        "    keras.layers.Flatten(),\n",
        "    keras.layers.Dense(4, activation= 'tanh'),\n",
        "    keras.layers.Dense(d_out, activation=\"sigmoid\")\n",
        "\t])\n",
        "\n",
        "modelo.compile(\n",
        "  optimizer = keras.optimizers.SGD(learning_rate=0.01),\n",
        "  loss = 'binary_crossentropy', metrics = ['accuracy']\n",
        ")\n",
        "\n",
        "modelo.summary()"
      ],
      "metadata": {
        "id": "7vuqcnIRYLDz",
        "colab": {
          "base_uri": "https://localhost:8080/"
        },
        "outputId": "4404175c-c431-4333-cf8b-c9dadb9d62e5"
      },
      "execution_count": 7,
      "outputs": [
        {
          "output_type": "stream",
          "name": "stdout",
          "text": [
            "Model: \"sequential\"\n",
            "_________________________________________________________________\n",
            " Layer (type)                Output Shape              Param #   \n",
            "=================================================================\n",
            " conv2d (Conv2D)             (None, 32, 32, 8)         224       \n",
            "                                                                 \n",
            " max_pooling2d (MaxPooling2  (None, 16, 16, 8)         0         \n",
            " D)                                                              \n",
            "                                                                 \n",
            " flatten (Flatten)           (None, 2048)              0         \n",
            "                                                                 \n",
            " dense (Dense)               (None, 4)                 8196      \n",
            "                                                                 \n",
            " dense_1 (Dense)             (None, 1)                 5         \n",
            "                                                                 \n",
            "=================================================================\n",
            "Total params: 8425 (32.91 KB)\n",
            "Trainable params: 8425 (32.91 KB)\n",
            "Non-trainable params: 0 (0.00 Byte)\n",
            "_________________________________________________________________\n"
          ]
        }
      ]
    },
    {
      "cell_type": "code",
      "source": [
        "history = modelo.fit(train_generator, steps_per_epoch = n_train // batch_size,\n",
        "                    epochs=5,  validation_data = test_generator  )"
      ],
      "metadata": {
        "id": "CBjZnwQzYSg1",
        "colab": {
          "base_uri": "https://localhost:8080/"
        },
        "outputId": "c38412d7-f263-4554-f394-06b94b75fc57"
      },
      "execution_count": 8,
      "outputs": [
        {
          "output_type": "stream",
          "name": "stdout",
          "text": [
            "Epoch 1/5\n",
            "212/212 [==============================] - 17s 62ms/step - loss: 0.4609 - accuracy: 0.7936 - val_loss: 0.5741 - val_accuracy: 0.6484\n",
            "Epoch 2/5\n",
            "212/212 [==============================] - 15s 70ms/step - loss: 0.3088 - accuracy: 0.8772 - val_loss: 0.2914 - val_accuracy: 0.8945\n",
            "Epoch 3/5\n",
            "212/212 [==============================] - 13s 61ms/step - loss: 0.2641 - accuracy: 0.8980 - val_loss: 0.2404 - val_accuracy: 0.8984\n",
            "Epoch 4/5\n",
            "212/212 [==============================] - 13s 61ms/step - loss: 0.2216 - accuracy: 0.9163 - val_loss: 0.2835 - val_accuracy: 0.8945\n",
            "Epoch 5/5\n",
            "212/212 [==============================] - 13s 63ms/step - loss: 0.2101 - accuracy: 0.9204 - val_loss: 0.2461 - val_accuracy: 0.9141\n"
          ]
        }
      ]
    },
    {
      "cell_type": "code",
      "source": [
        "test_generator.reset()\n",
        "results = modelo.predict(test_generator)"
      ],
      "metadata": {
        "id": "YQNXyIocFQJr",
        "colab": {
          "base_uri": "https://localhost:8080/"
        },
        "outputId": "c6d6b916-90e5-4cd0-b9e1-9b7f9bc0fe73"
      },
      "execution_count": 9,
      "outputs": [
        {
          "output_type": "stream",
          "name": "stdout",
          "text": [
            "11/11 [==============================] - 1s 57ms/step\n"
          ]
        }
      ]
    },
    {
      "cell_type": "code",
      "source": [
        "test_file_names = test_generator.filenames\n",
        "test_labels = test_generator.labels # clase de cada muestra de test\n",
        "\n",
        "preds = np.zeros(results.shape)\n",
        "aciertos = 0\n",
        "umbral = 0.5\n",
        "for index, pred in enumerate(results):\n",
        "    if(pred < umbral):\n",
        "        preds[index] = 0\n",
        "    else:\n",
        "        if(pred > (1 - umbral)):\n",
        "            preds[index] = 1\n",
        "    if (preds[index] == test_labels[index]):\n",
        "      aciertos = aciertos + 1\n",
        "print(f\"{aciertos} aciertos en {test_labels.shape[0]} muestras de test.\")\n",
        "print(f\"Accuracy: {float(aciertos)/test_labels.shape[0]}\")"
      ],
      "metadata": {
        "id": "o3q-KXgUikwk",
        "colab": {
          "base_uri": "https://localhost:8080/"
        },
        "outputId": "747e1f68-c0ad-4dd8-8e79-6e506a38a0dd"
      },
      "execution_count": 10,
      "outputs": [
        {
          "output_type": "stream",
          "name": "stdout",
          "text": [
            "120 aciertos en 256 muestras de test.\n",
            "Accuracy: 0.46875\n"
          ]
        }
      ]
    },
    {
      "cell_type": "code",
      "source": [
        "print('TRUE CLASS\\tPREDICTED CLASS\\tFILENAME')\n",
        "for i, p in enumerate(preds):\n",
        "    pred_index = p[0]\n",
        "    pred_class = class_dict_inverse[pred_index]\n",
        "    true_class = class_dict_inverse[test_labels[i]]\n",
        "    file = test_file_names[i]\n",
        "    print(f'{true_class}\\t{pred_class}\\t{file}')"
      ],
      "metadata": {
        "id": "gchgv71ci5eC",
        "colab": {
          "base_uri": "https://localhost:8080/"
        },
        "outputId": "75003a65-358e-4fe5-cc2c-80dcde67390e"
      },
      "execution_count": 11,
      "outputs": [
        {
          "output_type": "stream",
          "name": "stdout",
          "text": [
            "TRUE CLASS\tPREDICTED CLASS\tFILENAME\n",
            "neumonia\tneumonia\tneumonia/0128_bacteria.jpg\n",
            "neumonia\tnormal\tneumonia/0129_bacteria.jpg\n",
            "neumonia\tnormal\tneumonia/0130_bacteria.jpg\n",
            "neumonia\tnormal\tneumonia/0131_bacteria.jpg\n",
            "neumonia\tnormal\tneumonia/0132_bacteria.jpg\n",
            "neumonia\tneumonia\tneumonia/0133_bacteria.jpg\n",
            "neumonia\tnormal\tneumonia/0134_bacteria.jpg\n",
            "neumonia\tneumonia\tneumonia/0135_bacteria.jpg\n",
            "neumonia\tnormal\tneumonia/0136_bacteria.jpg\n",
            "neumonia\tnormal\tneumonia/0137_bacteria.jpg\n",
            "neumonia\tneumonia\tneumonia/0138_bacteria.jpg\n",
            "neumonia\tneumonia\tneumonia/0139_bacteria.jpg\n",
            "neumonia\tneumonia\tneumonia/0140_bacteria.jpg\n",
            "neumonia\tnormal\tneumonia/0141_bacteria.jpg\n",
            "neumonia\tneumonia\tneumonia/0142_bacteria.jpg\n",
            "neumonia\tneumonia\tneumonia/0143_bacteria.jpg\n",
            "neumonia\tneumonia\tneumonia/0144_bacteria.jpg\n",
            "neumonia\tnormal\tneumonia/0145_bacteria.jpg\n",
            "neumonia\tneumonia\tneumonia/0146_bacteria.jpg\n",
            "neumonia\tneumonia\tneumonia/0147_bacteria.jpg\n",
            "neumonia\tneumonia\tneumonia/0148_bacteria.jpg\n",
            "neumonia\tneumonia\tneumonia/0149_bacteria.jpg\n",
            "neumonia\tnormal\tneumonia/0150_bacteria.jpg\n",
            "neumonia\tnormal\tneumonia/0151_bacteria.jpg\n",
            "neumonia\tneumonia\tneumonia/0152_bacteria.jpg\n",
            "neumonia\tnormal\tneumonia/0153_bacteria.jpg\n",
            "neumonia\tnormal\tneumonia/0154_bacteria.jpg\n",
            "neumonia\tnormal\tneumonia/0155_bacteria.jpg\n",
            "neumonia\tneumonia\tneumonia/0156_bacteria.jpg\n",
            "neumonia\tneumonia\tneumonia/0157_bacteria.jpg\n",
            "neumonia\tneumonia\tneumonia/0158_bacteria.jpg\n",
            "neumonia\tnormal\tneumonia/0159_bacteria.jpg\n",
            "neumonia\tneumonia\tneumonia/0160_bacteria.jpg\n",
            "neumonia\tneumonia\tneumonia/0161_bacteria.jpg\n",
            "neumonia\tneumonia\tneumonia/0162_bacteria.jpg\n",
            "neumonia\tneumonia\tneumonia/0163_bacteria.jpg\n",
            "neumonia\tnormal\tneumonia/0164_bacteria.jpg\n",
            "neumonia\tneumonia\tneumonia/0165_bacteria.jpg\n",
            "neumonia\tnormal\tneumonia/0166_bacteria.jpg\n",
            "neumonia\tnormal\tneumonia/0167_bacteria.jpg\n",
            "neumonia\tneumonia\tneumonia/0168_bacteria.jpg\n",
            "neumonia\tnormal\tneumonia/0169_bacteria.jpg\n",
            "neumonia\tneumonia\tneumonia/0170_bacteria.jpg\n",
            "neumonia\tnormal\tneumonia/0171_bacteria.jpg\n",
            "neumonia\tnormal\tneumonia/0172_bacteria.jpg\n",
            "neumonia\tnormal\tneumonia/0173_bacteria.jpg\n",
            "neumonia\tnormal\tneumonia/0174_bacteria.jpg\n",
            "neumonia\tnormal\tneumonia/0175_bacteria.jpg\n",
            "neumonia\tnormal\tneumonia/0176_bacteria.jpg\n",
            "neumonia\tnormal\tneumonia/0177_bacteria.jpg\n",
            "neumonia\tnormal\tneumonia/0178_bacteria.jpg\n",
            "neumonia\tnormal\tneumonia/0179_bacteria.jpg\n",
            "neumonia\tneumonia\tneumonia/0180_bacteria.jpg\n",
            "neumonia\tnormal\tneumonia/0181_bacteria.jpg\n",
            "neumonia\tneumonia\tneumonia/0182_bacteria.jpg\n",
            "neumonia\tneumonia\tneumonia/0183_bacteria.jpg\n",
            "neumonia\tnormal\tneumonia/0184_bacteria.jpg\n",
            "neumonia\tneumonia\tneumonia/0185_bacteria.jpg\n",
            "neumonia\tneumonia\tneumonia/0186_bacteria.jpg\n",
            "neumonia\tnormal\tneumonia/0187_bacteria.jpg\n",
            "neumonia\tneumonia\tneumonia/0188_bacteria.jpg\n",
            "neumonia\tneumonia\tneumonia/0189_bacteria.jpg\n",
            "neumonia\tneumonia\tneumonia/0190_bacteria.jpg\n",
            "neumonia\tnormal\tneumonia/0191_bacteria.jpg\n",
            "neumonia\tnormal\tneumonia/2908_virus.jpg\n",
            "neumonia\tneumonia\tneumonia/2909_virus.jpg\n",
            "neumonia\tnormal\tneumonia/2910_virus.jpg\n",
            "neumonia\tneumonia\tneumonia/2911_virus.jpg\n",
            "neumonia\tnormal\tneumonia/2912_virus.jpg\n",
            "neumonia\tnormal\tneumonia/2913_virus.jpg\n",
            "neumonia\tneumonia\tneumonia/2914_virus.jpg\n",
            "neumonia\tnormal\tneumonia/2915_virus.jpg\n",
            "neumonia\tneumonia\tneumonia/2916_virus.jpg\n",
            "neumonia\tneumonia\tneumonia/2917_virus.jpg\n",
            "neumonia\tneumonia\tneumonia/2918_virus.jpg\n",
            "neumonia\tnormal\tneumonia/2919_virus.jpg\n",
            "neumonia\tneumonia\tneumonia/2920_virus.jpg\n",
            "neumonia\tneumonia\tneumonia/2921_virus.jpg\n",
            "neumonia\tneumonia\tneumonia/2922_virus.jpg\n",
            "neumonia\tneumonia\tneumonia/2923_virus.jpg\n",
            "neumonia\tneumonia\tneumonia/2924_virus.jpg\n",
            "neumonia\tneumonia\tneumonia/2925_virus.jpg\n",
            "neumonia\tnormal\tneumonia/2926_virus.jpg\n",
            "neumonia\tnormal\tneumonia/2927_virus.jpg\n",
            "neumonia\tnormal\tneumonia/2928_virus.jpg\n",
            "neumonia\tnormal\tneumonia/2929_virus.jpg\n",
            "neumonia\tneumonia\tneumonia/2930_virus.jpg\n",
            "neumonia\tneumonia\tneumonia/2931_virus.jpg\n",
            "neumonia\tneumonia\tneumonia/2932_virus.jpg\n",
            "neumonia\tnormal\tneumonia/2933_virus.jpg\n",
            "neumonia\tnormal\tneumonia/2934_virus.jpg\n",
            "neumonia\tnormal\tneumonia/2935_virus.jpg\n",
            "neumonia\tneumonia\tneumonia/2936_virus.jpg\n",
            "neumonia\tneumonia\tneumonia/2937_virus.jpg\n",
            "neumonia\tnormal\tneumonia/2938_virus.jpg\n",
            "neumonia\tnormal\tneumonia/2939_virus.jpg\n",
            "neumonia\tnormal\tneumonia/2940_virus.jpg\n",
            "neumonia\tneumonia\tneumonia/2941_virus.jpg\n",
            "neumonia\tnormal\tneumonia/2942_virus.jpg\n",
            "neumonia\tneumonia\tneumonia/2943_virus.jpg\n",
            "neumonia\tneumonia\tneumonia/2944_virus.jpg\n",
            "neumonia\tnormal\tneumonia/2945_virus.jpg\n",
            "neumonia\tneumonia\tneumonia/2946_virus.jpg\n",
            "neumonia\tneumonia\tneumonia/2947_virus.jpg\n",
            "neumonia\tnormal\tneumonia/2948_virus.jpg\n",
            "neumonia\tnormal\tneumonia/2949_virus.jpg\n",
            "neumonia\tneumonia\tneumonia/2950_virus.jpg\n",
            "neumonia\tneumonia\tneumonia/2951_virus.jpg\n",
            "neumonia\tnormal\tneumonia/2952_virus.jpg\n",
            "neumonia\tnormal\tneumonia/2953_virus.jpg\n",
            "neumonia\tneumonia\tneumonia/2954_virus.jpg\n",
            "neumonia\tneumonia\tneumonia/2955_virus.jpg\n",
            "neumonia\tneumonia\tneumonia/2956_virus.jpg\n",
            "neumonia\tneumonia\tneumonia/2957_virus.jpg\n",
            "neumonia\tneumonia\tneumonia/2958_virus.jpg\n",
            "neumonia\tneumonia\tneumonia/2959_virus.jpg\n",
            "neumonia\tnormal\tneumonia/2960_virus.jpg\n",
            "neumonia\tneumonia\tneumonia/2961_virus.jpg\n",
            "neumonia\tneumonia\tneumonia/2962_virus.jpg\n",
            "neumonia\tnormal\tneumonia/2963_virus.jpg\n",
            "neumonia\tneumonia\tneumonia/2964_virus.jpg\n",
            "neumonia\tneumonia\tneumonia/2965_virus.jpg\n",
            "neumonia\tneumonia\tneumonia/2966_virus.jpg\n",
            "neumonia\tneumonia\tneumonia/2967_virus.jpg\n",
            "neumonia\tneumonia\tneumonia/2968_virus.jpg\n",
            "neumonia\tneumonia\tneumonia/2969_virus.jpg\n",
            "neumonia\tneumonia\tneumonia/2970_virus.jpg\n",
            "neumonia\tnormal\tneumonia/2971_virus.jpg\n",
            "normal\tnormal\tnormal/0257_normal.jpg\n",
            "normal\tneumonia\tnormal/0258_normal.jpg\n",
            "normal\tneumonia\tnormal/0259_normal.jpg\n",
            "normal\tnormal\tnormal/0260_normal.jpg\n",
            "normal\tnormal\tnormal/0261_normal.jpg\n",
            "normal\tneumonia\tnormal/0262_normal.jpg\n",
            "normal\tnormal\tnormal/0263_normal.jpg\n",
            "normal\tneumonia\tnormal/0264_normal.jpg\n",
            "normal\tnormal\tnormal/0265_normal.jpg\n",
            "normal\tneumonia\tnormal/0266_normal.jpg\n",
            "normal\tneumonia\tnormal/0267_normal.jpg\n",
            "normal\tneumonia\tnormal/0268_normal.jpg\n",
            "normal\tneumonia\tnormal/0269_normal.jpg\n",
            "normal\tneumonia\tnormal/0270_normal.jpg\n",
            "normal\tnormal\tnormal/0271_normal.jpg\n",
            "normal\tnormal\tnormal/0272_normal.jpg\n",
            "normal\tneumonia\tnormal/0273_normal.jpg\n",
            "normal\tneumonia\tnormal/0274_normal.jpg\n",
            "normal\tneumonia\tnormal/0275_normal.jpg\n",
            "normal\tnormal\tnormal/0276_normal.jpg\n",
            "normal\tnormal\tnormal/0277_normal.jpg\n",
            "normal\tneumonia\tnormal/0278_normal.jpg\n",
            "normal\tnormal\tnormal/0279_normal.jpg\n",
            "normal\tneumonia\tnormal/0280_normal.jpg\n",
            "normal\tneumonia\tnormal/0281_normal.jpg\n",
            "normal\tneumonia\tnormal/0282_normal.jpg\n",
            "normal\tneumonia\tnormal/0283_normal.jpg\n",
            "normal\tnormal\tnormal/0284_normal.jpg\n",
            "normal\tneumonia\tnormal/0285_normal.jpg\n",
            "normal\tneumonia\tnormal/0286_normal.jpg\n",
            "normal\tneumonia\tnormal/0287_normal.jpg\n",
            "normal\tneumonia\tnormal/0288_normal.jpg\n",
            "normal\tnormal\tnormal/0289_normal.jpg\n",
            "normal\tneumonia\tnormal/0290_normal.jpg\n",
            "normal\tneumonia\tnormal/0291_normal.jpg\n",
            "normal\tneumonia\tnormal/0292_normal.jpg\n",
            "normal\tneumonia\tnormal/0293_normal.jpg\n",
            "normal\tneumonia\tnormal/0294_normal.jpg\n",
            "normal\tnormal\tnormal/0295_normal.jpg\n",
            "normal\tneumonia\tnormal/0296_normal.jpg\n",
            "normal\tneumonia\tnormal/0297_normal.jpg\n",
            "normal\tnormal\tnormal/0298_normal.jpg\n",
            "normal\tneumonia\tnormal/0299_normal.jpg\n",
            "normal\tneumonia\tnormal/0300_normal.jpg\n",
            "normal\tneumonia\tnormal/0301_normal.jpg\n",
            "normal\tneumonia\tnormal/0302_normal.jpg\n",
            "normal\tneumonia\tnormal/0303_normal.jpg\n",
            "normal\tneumonia\tnormal/0304_normal.jpg\n",
            "normal\tneumonia\tnormal/0305_normal.jpg\n",
            "normal\tneumonia\tnormal/0306_normal.jpg\n",
            "normal\tnormal\tnormal/0307_normal.jpg\n",
            "normal\tnormal\tnormal/0308_normal.jpg\n",
            "normal\tnormal\tnormal/0309_normal.jpg\n",
            "normal\tneumonia\tnormal/0310_normal.jpg\n",
            "normal\tneumonia\tnormal/0311_normal.jpg\n",
            "normal\tnormal\tnormal/0312_normal.jpg\n",
            "normal\tneumonia\tnormal/0313_normal.jpg\n",
            "normal\tnormal\tnormal/0314_normal.jpg\n",
            "normal\tnormal\tnormal/0315_normal.jpg\n",
            "normal\tnormal\tnormal/0316_normal.jpg\n",
            "normal\tneumonia\tnormal/0317_normal.jpg\n",
            "normal\tneumonia\tnormal/0318_normal.jpg\n",
            "normal\tnormal\tnormal/0319_normal.jpg\n",
            "normal\tneumonia\tnormal/0320_normal.jpg\n",
            "normal\tnormal\tnormal/0321_normal.jpg\n",
            "normal\tneumonia\tnormal/0322_normal.jpg\n",
            "normal\tneumonia\tnormal/0323_normal.jpg\n",
            "normal\tnormal\tnormal/0324_normal.jpg\n",
            "normal\tnormal\tnormal/0325_normal.jpg\n",
            "normal\tneumonia\tnormal/0326_normal.jpg\n",
            "normal\tnormal\tnormal/0327_normal.jpg\n",
            "normal\tneumonia\tnormal/0328_normal.jpg\n",
            "normal\tnormal\tnormal/0329_normal.jpg\n",
            "normal\tneumonia\tnormal/0330_normal.jpg\n",
            "normal\tnormal\tnormal/0331_normal.jpg\n",
            "normal\tneumonia\tnormal/0332_normal.jpg\n",
            "normal\tneumonia\tnormal/0333_normal.jpg\n",
            "normal\tneumonia\tnormal/0334_normal.jpg\n",
            "normal\tnormal\tnormal/0335_normal.jpg\n",
            "normal\tnormal\tnormal/0336_normal.jpg\n",
            "normal\tnormal\tnormal/0337_normal.jpg\n",
            "normal\tneumonia\tnormal/0338_normal.jpg\n",
            "normal\tnormal\tnormal/0339_normal.jpg\n",
            "normal\tnormal\tnormal/0340_normal.jpg\n",
            "normal\tnormal\tnormal/0341_normal.jpg\n",
            "normal\tnormal\tnormal/0342_normal.jpg\n",
            "normal\tneumonia\tnormal/0343_normal.jpg\n",
            "normal\tnormal\tnormal/0344_normal.jpg\n",
            "normal\tneumonia\tnormal/0345_normal.jpg\n",
            "normal\tneumonia\tnormal/0346_normal.jpg\n",
            "normal\tneumonia\tnormal/0347_normal.jpg\n",
            "normal\tneumonia\tnormal/0348_normal.jpg\n",
            "normal\tnormal\tnormal/0349_normal.jpg\n",
            "normal\tneumonia\tnormal/0350_normal.jpg\n",
            "normal\tnormal\tnormal/0351_normal.jpg\n",
            "normal\tnormal\tnormal/0352_normal.jpg\n",
            "normal\tneumonia\tnormal/0353_normal.jpg\n",
            "normal\tneumonia\tnormal/0354_normal.jpg\n",
            "normal\tnormal\tnormal/0355_normal.jpg\n",
            "normal\tneumonia\tnormal/0356_normal.jpg\n",
            "normal\tnormal\tnormal/0357_normal.jpg\n",
            "normal\tneumonia\tnormal/0358_normal.jpg\n",
            "normal\tneumonia\tnormal/0359_normal.jpg\n",
            "normal\tnormal\tnormal/0360_normal.jpg\n",
            "normal\tneumonia\tnormal/0361_normal.jpg\n",
            "normal\tneumonia\tnormal/0362_normal.jpg\n",
            "normal\tneumonia\tnormal/0363_normal.jpg\n",
            "normal\tneumonia\tnormal/0364_normal.jpg\n",
            "normal\tnormal\tnormal/0365_normal.jpg\n",
            "normal\tneumonia\tnormal/0366_normal.jpg\n",
            "normal\tneumonia\tnormal/0367_normal.jpg\n",
            "normal\tneumonia\tnormal/0368_normal.jpg\n",
            "normal\tneumonia\tnormal/0369_normal.jpg\n",
            "normal\tneumonia\tnormal/0370_normal.jpg\n",
            "normal\tneumonia\tnormal/0371_normal.jpg\n",
            "normal\tnormal\tnormal/0372_normal.jpg\n",
            "normal\tneumonia\tnormal/0373_normal.jpg\n",
            "normal\tneumonia\tnormal/0374_normal.jpg\n",
            "normal\tneumonia\tnormal/0375_normal.jpg\n",
            "normal\tneumonia\tnormal/0376_normal.jpg\n",
            "normal\tnormal\tnormal/0377_normal.jpg\n",
            "normal\tneumonia\tnormal/0378_normal.jpg\n",
            "normal\tneumonia\tnormal/0379_normal.jpg\n",
            "normal\tnormal\tnormal/0380_normal.jpg\n",
            "normal\tnormal\tnormal/0381_normal.jpg\n",
            "normal\tnormal\tnormal/0382_normal.jpg\n",
            "normal\tnormal\tnormal/0383_normal.jpg\n",
            "normal\tneumonia\tnormal/0384_normal.jpg\n"
          ]
        }
      ]
    },
    {
      "cell_type": "code",
      "source": [
        "sklearn.metrics.ConfusionMatrixDisplay.from_predictions(test_labels, preds)"
      ],
      "metadata": {
        "id": "Zswp4qdOi7hS",
        "colab": {
          "base_uri": "https://localhost:8080/",
          "height": 466
        },
        "outputId": "ac3fe97c-1d91-49fc-b1ee-3b6654e44ccb"
      },
      "execution_count": 12,
      "outputs": [
        {
          "output_type": "execute_result",
          "data": {
            "text/plain": [
              "<sklearn.metrics._plot.confusion_matrix.ConfusionMatrixDisplay at 0x7fee721178b0>"
            ]
          },
          "metadata": {},
          "execution_count": 12
        },
        {
          "output_type": "display_data",
          "data": {
            "text/plain": [
              "<Figure size 640x480 with 2 Axes>"
            ],
            "image/png": "[encoded data removed]"
          },
          "metadata": {}
        }
      ]
    }
  ]
}