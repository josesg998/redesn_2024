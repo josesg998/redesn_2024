{
  "cells": [
    {
      "cell_type": "markdown",
      "metadata": {
        "id": "view-in-github",
        "colab_type": "text"
      },
      "source": [
        "<a href=\"https://colab.research.google.com/github/josesg998/redesn_2024/blob/main/Clase%201/Ejercicio_8a.ipynb\" target=\"_parent\"><img src=\"https://colab.research.google.com/assets/colab-badge.svg\" alt=\"Open In Colab\"/></a>"
      ]
    },
    {
      "cell_type": "markdown",
      "source": [
        "# Ejercicio 8"
      ],
      "metadata": {
        "id": "3YhaTCesFK9j"
      }
    },
    {
      "cell_type": "code",
      "source": [
        "from sklearn.model_selection import train_test_split\n",
        "from keras.utils import to_categorical\n",
        "from keras import Sequential\n",
        "from keras.layers import Dense\n",
        "from keras.optimizers import SGD\n",
        "import numpy as np\n",
        "import matplotlib.pyplot as plt\n",
        "import matplotlib.gridspec as gridspec"
      ],
      "metadata": {
        "id": "IqahCsUkFQe8"
      },
      "execution_count": 1,
      "outputs": []
    },
    {
      "cell_type": "markdown",
      "source": [
        "Entrene diferentes modelos para clasificar los conjuntos de datos 2_clases_simple.csv, 6_clases_dificil.csv, circulos.csv, diabetes.csv, moons_mis-scaled.csv y moons.csv utilizando redes neuronales con topología secuencial, es decir, un modelo secuencial con varias capas.\n",
        "\n",
        "a) Realice diferentes pruebas variando la cantidad de capas y la función de activación de cada una.\n",
        "\n",
        "b) Pruebe utilizando una red de 5, 10 o 20 capas Dense, peso sin funciones de activación. ¿Funcionan mejor estas redes? ¿Por qué?\n",
        "\n",
        "c) Pruebe cambiando el tamaño de lote con los valores 4, 16 y 64, y la tasa de\n",
        "aprendizaje entre 0.001, 0.01, 0.1 ¿en qué sentido cambian las curvas de error durante el entrenamiento? En particular, ¿en qué casos es suave la curva de error, y en qué casos parece tener ruido?"
      ],
      "metadata": {
        "id": "5yAvDBjoFxL0"
      }
    }
  ],
  "metadata": {
    "colab": {
      "name": "Te damos la bienvenida a Colaboratory",
      "provenance": [],
      "include_colab_link": true
    },
    "kernelspec": {
      "display_name": "Python 3",
      "name": "python3"
    }
  },
  "nbformat": 4,
  "nbformat_minor": 0
}