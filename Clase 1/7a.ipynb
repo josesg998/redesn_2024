{
  "nbformat": 4,
  "nbformat_minor": 0,
  "metadata": {
    "colab": {
      "provenance": [],
      "gpuType": "T4",
      "authorship_tag": "ABX9TyO66UJ+EK4iTyGHgZpiPARU",
      "include_colab_link": true
    },
    "kernelspec": {
      "name": "python3",
      "display_name": "Python 3"
    },
    "language_info": {
      "name": "python"
    },
    "accelerator": "GPU"
  },
  "cells": [
    {
      "cell_type": "markdown",
      "metadata": {
        "id": "view-in-github",
        "colab_type": "text"
      },
      "source": [
        "<a href=\"https://colab.research.google.com/github/josesg998/redesn_2024/blob/main/Clase%201/7a.ipynb\" target=\"_parent\"><img src=\"https://colab.research.google.com/assets/colab-badge.svg\" alt=\"Open In Colab\"/></a>"
      ]
    },
    {
      "cell_type": "markdown",
      "source": [
        "# Ejercicio 7"
      ],
      "metadata": {
        "id": "1nYcxTp0nqrK"
      }
    },
    {
      "cell_type": "code",
      "source": [
        "import polars as pl\n",
        "from sklearn.model_selection import train_test_split\n",
        "from keras import Sequential\n",
        "from keras.layers import Dense\n",
        "from keras.optimizers import SGD\n",
        "import numpy as np\n",
        "import matplotlib.pyplot as plt\n",
        "import matplotlib.gridspec as gridspec"
      ],
      "metadata": {
        "id": "SsWbJk5GnaSp"
      },
      "execution_count": 1,
      "outputs": []
    },
    {
      "cell_type": "code",
      "source": [
        "def plot_metric(history, metric):\n",
        "  plt.plot(history.history[metric], label='Training data')\n",
        "  plt.plot(history.history['val_' + metric], label='Validation data')\n",
        "  plt.title(metric)\n",
        "  plt.ylabel(metric)\n",
        "  plt.xlabel('Epoch')\n",
        "  plt.legend(loc=\"upper right\")\n",
        "  plt.show()"
      ],
      "metadata": {
        "id": "gAh08VJMp9cm"
      },
      "execution_count": 2,
      "outputs": []
    },
    {
      "cell_type": "markdown",
      "source": [
        "El archivo Quimil.csv posee información diaria de ocho parámetros climáticos junto con la cantidad de radiación solar observada (la última columna).\n",
        "\n",
        "Se desea entrenar una red neuronal para encontrar un modelo que sea capaz de predecir la radiación solar de un determinado día, al conocerse los valores de los datos climáticos actuales."
      ],
      "metadata": {
        "id": "R69GbfOhnoOT"
      }
    },
    {
      "cell_type": "code",
      "execution_count": 3,
      "metadata": {
        "id": "9Csy19Ilm9rc"
      },
      "outputs": [],
      "source": [
        "#!unzip datasets.zip"
      ]
    },
    {
      "cell_type": "markdown",
      "source": [
        "## Ejercicio a\n",
        "\n",
        "Utilice el dataset Quimil.csv para llevar a cabo el entrenamiento. Ejecute varias pruebas para conseguir un modelo cuyo error total sea lo más bajo posible.\n"
      ],
      "metadata": {
        "id": "dtHrNDvjn2tE"
      }
    },
    {
      "cell_type": "code",
      "source": [
        "df = pl.read_csv('Quimil.csv',separator=';',encoding='latin1')\n",
        "df.head()"
      ],
      "metadata": {
        "colab": {
          "base_uri": "https://localhost:8080/",
          "height": 292
        },
        "id": "IF55VSDHn_RI",
        "outputId": "7d146f90-2da3-4b28-c1e6-6c848d86b242"
      },
      "execution_count": 4,
      "outputs": [
        {
          "output_type": "execute_result",
          "data": {
            "text/plain": [
              "shape: (5, 10)\n",
              "┌───────┬────────────┬────────────┬────────────┬───┬───────────┬───────────┬───────────┬───────────┐\n",
              "│ Fecha ┆ Precipitac ┆ Temperatur ┆ Temperatur ┆ … ┆ Temperatu ┆ Máxima_ve ┆ Presión_a ┆ Radiación │\n",
              "│ ---   ┆ ión_de_024 ┆ a_Máxima_d ┆ a_Mínima_d ┆   ┆ ra_Media_ ┆ locidad_d ┆ tmosféric ┆ _Global   │\n",
              "│ i64   ┆ _hs [mm]   ┆ el_aire_en ┆ el_aire_en ┆   ┆ del_aire_ ┆ el_viento ┆ a_media   ┆ [MJ/m2]   │\n",
              "│       ┆ ---        ┆ _a…        ┆ _a…        ┆   ┆ en_ab…    ┆ [km/…     ┆ [hPa]     ┆ ---       │\n",
              "│       ┆ f64        ┆ ---        ┆ ---        ┆   ┆ ---       ┆ ---       ┆ ---       ┆ f64       │\n",
              "│       ┆            ┆ f64        ┆ f64        ┆   ┆ f64       ┆ f64       ┆ f64       ┆           │\n",
              "╞═══════╪════════════╪════════════╪════════════╪═══╪═══════════╪═══════════╪═══════════╪═══════════╡\n",
              "│ 1     ┆ 0.3        ┆ 24.4       ┆ 9.5        ┆ … ┆ 13.8      ┆ 36.8      ┆ 996.5     ┆ 8.2       │\n",
              "│ 2     ┆ 0.0        ┆ 23.6       ┆ 1.0        ┆ … ┆ 13.5      ┆ 26.4      ┆ 1003.6    ┆ 23.7      │\n",
              "│ 3     ┆ 0.0        ┆ 27.3       ┆ 1.5        ┆ … ┆ 14.2      ┆ 27.5      ┆ 1002.1    ┆ 24.2      │\n",
              "│ 4     ┆ 0.0        ┆ 29.8       ┆ 6.1        ┆ … ┆ 17.4      ┆ 29.5      ┆ 999.7     ┆ 24.1      │\n",
              "│ 5     ┆ 0.0        ┆ 32.4       ┆ 10.1       ┆ … ┆ 20.1      ┆ 32.3      ┆ 992.9     ┆ 24.4      │\n",
              "└───────┴────────────┴────────────┴────────────┴───┴───────────┴───────────┴───────────┴───────────┘"
            ],
            "text/html": [
              "<div><style>\n",
              ".dataframe > thead > tr,\n",
              ".dataframe > tbody > tr {\n",
              "  text-align: right;\n",
              "  white-space: pre-wrap;\n",
              "}\n",
              "</style>\n",
              "<small>shape: (5, 10)</small><table border=\"1\" class=\"dataframe\"><thead><tr><th>Fecha</th><th>Precipitación_de_024_hs [mm]</th><th>Temperatura_Máxima_del_aire_en_abrigo_a_15_m_de_altura [°C]</th><th>Temperatura_Mínima_del_aire_en_abrigo_a_15_m_de_altura [°]</th><th>Humedad_relativa_media [%]</th><th>Velocidad_media_del_viento_[km/h]</th><th>Temperatura_Media_del_aire_en_abrigo_a_15_m_de_altura [°C]</th><th>Máxima_velocidad_del_viento [km/h]</th><th>Presión_atmosférica_media [hPa]</th><th>Radiación_Global [MJ/m2]</th></tr><tr><td>i64</td><td>f64</td><td>f64</td><td>f64</td><td>i64</td><td>f64</td><td>f64</td><td>f64</td><td>f64</td><td>f64</td></tr></thead><tbody><tr><td>1</td><td>0.3</td><td>24.4</td><td>9.5</td><td>73</td><td>10.2</td><td>13.8</td><td>36.8</td><td>996.5</td><td>8.2</td></tr><tr><td>2</td><td>0.0</td><td>23.6</td><td>1.0</td><td>46</td><td>2.5</td><td>13.5</td><td>26.4</td><td>1003.6</td><td>23.7</td></tr><tr><td>3</td><td>0.0</td><td>27.3</td><td>1.5</td><td>37</td><td>4.4</td><td>14.2</td><td>27.5</td><td>1002.1</td><td>24.2</td></tr><tr><td>4</td><td>0.0</td><td>29.8</td><td>6.1</td><td>30</td><td>6.6</td><td>17.4</td><td>29.5</td><td>999.7</td><td>24.1</td></tr><tr><td>5</td><td>0.0</td><td>32.4</td><td>10.1</td><td>31</td><td>9.7</td><td>20.1</td><td>32.3</td><td>992.9</td><td>24.4</td></tr></tbody></table></div>"
            ]
          },
          "metadata": {},
          "execution_count": 4
        }
      ]
    },
    {
      "cell_type": "code",
      "source": [
        "plt.boxplot(df['Radiación_Global [MJ/m2]'])"
      ],
      "metadata": {
        "colab": {
          "base_uri": "https://localhost:8080/",
          "height": 573
        },
        "id": "yRhqRd372n51",
        "outputId": "2dddc659-9639-4759-802f-b1cd13dd8339"
      },
      "execution_count": 5,
      "outputs": [
        {
          "output_type": "execute_result",
          "data": {
            "text/plain": [
              "{'whiskers': [<matplotlib.lines.Line2D at 0x7e9e577751b0>,\n",
              "  <matplotlib.lines.Line2D at 0x7e9e57775450>],\n",
              " 'caps': [<matplotlib.lines.Line2D at 0x7e9e577756f0>,\n",
              "  <matplotlib.lines.Line2D at 0x7e9e57775990>],\n",
              " 'boxes': [<matplotlib.lines.Line2D at 0x7e9e57774f10>],\n",
              " 'medians': [<matplotlib.lines.Line2D at 0x7e9e57775c30>],\n",
              " 'fliers': [<matplotlib.lines.Line2D at 0x7e9e57775ed0>],\n",
              " 'means': []}"
            ]
          },
          "metadata": {},
          "execution_count": 5
        },
        {
          "output_type": "display_data",
          "data": {
            "text/plain": [
              "<Figure size 640x480 with 1 Axes>"
            ],
            "image/png": "[encoded data removed]"
          },
          "metadata": {}
        }
      ]
    },
    {
      "cell_type": "code",
      "source": [
        "X = df.drop(columns='Radiación_Global [MJ/m2]').to_numpy()\n",
        "y = df['Radiación_Global [MJ/m2]'].to_numpy()\n",
        "\n",
        "d_in = 9  # Número de variables de entrada.\n",
        "d_out = 1 # Número de salidas. La misma que la cantidad de clases (usando one_hot)\n",
        "\n",
        "modelo = Sequential([\n",
        "    Dense(64, activation='tanh', input_shape=(d_in,)),\n",
        "    Dense(d_out)  # Capa de salida con una neurona para la regresión\n",
        "\t])\n",
        "\n",
        "modelo.compile('adam', loss='mse',metrics=['RootMeanSquaredError'])\n",
        "\n",
        "modelo.summary()"
      ],
      "metadata": {
        "colab": {
          "base_uri": "https://localhost:8080/"
        },
        "id": "kdBU7LG_oN6e",
        "outputId": "f85975d8-f0fc-4ad2-bffd-defa8624fa3a"
      },
      "execution_count": 6,
      "outputs": [
        {
          "output_type": "stream",
          "name": "stdout",
          "text": [
            "Model: \"sequential\"\n",
            "_________________________________________________________________\n",
            " Layer (type)                Output Shape              Param #   \n",
            "=================================================================\n",
            " dense (Dense)               (None, 64)                640       \n",
            "                                                                 \n",
            " dense_1 (Dense)             (None, 1)                 65        \n",
            "                                                                 \n",
            "=================================================================\n",
            "Total params: 705 (2.75 KB)\n",
            "Trainable params: 705 (2.75 KB)\n",
            "Non-trainable params: 0 (0.00 Byte)\n",
            "_________________________________________________________________\n"
          ]
        }
      ]
    },
    {
      "cell_type": "code",
      "source": [
        "# Entrenamiento del modelo y ploteo de las métricas\n",
        "history = modelo.fit(X, y, epochs=200, batch_size=30, verbose=True, validation_split=0.2)"
      ],
      "metadata": {
        "colab": {
          "base_uri": "https://localhost:8080/"
        },
        "id": "M_UB5HAMok8g",
        "outputId": "77f4a314-445a-4db8-d1a6-adffba04735f"
      },
      "execution_count": 7,
      "outputs": [
        {
          "output_type": "stream",
          "name": "stdout",
          "text": [
            "Epoch 1/200\n",
            "3/3 [==============================] - 4s 219ms/step - loss: 396.4582 - root_mean_squared_error: 19.9113 - val_loss: 593.3069 - val_root_mean_squared_error: 24.3579\n",
            "Epoch 2/200\n",
            "3/3 [==============================] - 0s 28ms/step - loss: 389.1114 - root_mean_squared_error: 19.7259 - val_loss: 582.8625 - val_root_mean_squared_error: 24.1425\n",
            "Epoch 3/200\n",
            "3/3 [==============================] - 0s 42ms/step - loss: 380.6127 - root_mean_squared_error: 19.5093 - val_loss: 568.9025 - val_root_mean_squared_error: 23.8517\n",
            "Epoch 4/200\n",
            "3/3 [==============================] - 0s 37ms/step - loss: 370.0747 - root_mean_squared_error: 19.2373 - val_loss: 551.1840 - val_root_mean_squared_error: 23.4773\n",
            "Epoch 5/200\n",
            "3/3 [==============================] - 0s 53ms/step - loss: 357.0237 - root_mean_squared_error: 18.8951 - val_loss: 528.3221 - val_root_mean_squared_error: 22.9853\n",
            "Epoch 6/200\n",
            "3/3 [==============================] - 0s 40ms/step - loss: 340.3419 - root_mean_squared_error: 18.4484 - val_loss: 509.7510 - val_root_mean_squared_error: 22.5777\n",
            "Epoch 7/200\n",
            "3/3 [==============================] - 0s 40ms/step - loss: 326.6201 - root_mean_squared_error: 18.0726 - val_loss: 501.4909 - val_root_mean_squared_error: 22.3940\n",
            "Epoch 8/200\n",
            "3/3 [==============================] - 0s 31ms/step - loss: 318.1987 - root_mean_squared_error: 17.8381 - val_loss: 493.2297 - val_root_mean_squared_error: 22.2088\n",
            "Epoch 9/200\n",
            "3/3 [==============================] - 0s 34ms/step - loss: 311.9870 - root_mean_squared_error: 17.6632 - val_loss: 485.1905 - val_root_mean_squared_error: 22.0270\n",
            "Epoch 10/200\n",
            "3/3 [==============================] - 0s 40ms/step - loss: 306.3545 - root_mean_squared_error: 17.5030 - val_loss: 477.7642 - val_root_mean_squared_error: 21.8578\n",
            "Epoch 11/200\n",
            "3/3 [==============================] - 0s 39ms/step - loss: 300.8119 - root_mean_squared_error: 17.3439 - val_loss: 470.2805 - val_root_mean_squared_error: 21.6860\n",
            "Epoch 12/200\n",
            "3/3 [==============================] - 0s 49ms/step - loss: 295.1490 - root_mean_squared_error: 17.1799 - val_loss: 462.8742 - val_root_mean_squared_error: 21.5145\n",
            "Epoch 13/200\n",
            "3/3 [==============================] - 0s 33ms/step - loss: 289.6501 - root_mean_squared_error: 17.0191 - val_loss: 455.5770 - val_root_mean_squared_error: 21.3442\n",
            "Epoch 14/200\n",
            "3/3 [==============================] - 0s 71ms/step - loss: 284.2805 - root_mean_squared_error: 16.8606 - val_loss: 448.4944 - val_root_mean_squared_error: 21.1777\n",
            "Epoch 15/200\n",
            "3/3 [==============================] - 0s 32ms/step - loss: 279.0701 - root_mean_squared_error: 16.7054 - val_loss: 441.7355 - val_root_mean_squared_error: 21.0175\n",
            "Epoch 16/200\n",
            "3/3 [==============================] - 0s 39ms/step - loss: 274.0687 - root_mean_squared_error: 16.5550 - val_loss: 434.9509 - val_root_mean_squared_error: 20.8555\n",
            "Epoch 17/200\n",
            "3/3 [==============================] - 0s 35ms/step - loss: 269.1062 - root_mean_squared_error: 16.4045 - val_loss: 427.9341 - val_root_mean_squared_error: 20.6866\n",
            "Epoch 18/200\n",
            "3/3 [==============================] - 0s 48ms/step - loss: 263.9344 - root_mean_squared_error: 16.2461 - val_loss: 420.8470 - val_root_mean_squared_error: 20.5146\n",
            "Epoch 19/200\n",
            "3/3 [==============================] - 0s 46ms/step - loss: 258.8141 - root_mean_squared_error: 16.0877 - val_loss: 414.0846 - val_root_mean_squared_error: 20.3491\n",
            "Epoch 20/200\n",
            "3/3 [==============================] - 0s 47ms/step - loss: 253.9122 - root_mean_squared_error: 15.9346 - val_loss: 407.7310 - val_root_mean_squared_error: 20.1924\n",
            "Epoch 21/200\n",
            "3/3 [==============================] - 0s 33ms/step - loss: 249.3198 - root_mean_squared_error: 15.7899 - val_loss: 401.2415 - val_root_mean_squared_error: 20.0310\n",
            "Epoch 22/200\n",
            "3/3 [==============================] - 0s 42ms/step - loss: 244.6146 - root_mean_squared_error: 15.6402 - val_loss: 394.5951 - val_root_mean_squared_error: 19.8644\n",
            "Epoch 23/200\n",
            "3/3 [==============================] - 0s 50ms/step - loss: 239.8197 - root_mean_squared_error: 15.4861 - val_loss: 388.0318 - val_root_mean_squared_error: 19.6985\n",
            "Epoch 24/200\n",
            "3/3 [==============================] - 0s 46ms/step - loss: 235.1459 - root_mean_squared_error: 15.3345 - val_loss: 381.6282 - val_root_mean_squared_error: 19.5353\n",
            "Epoch 25/200\n",
            "3/3 [==============================] - 0s 48ms/step - loss: 230.6028 - root_mean_squared_error: 15.1856 - val_loss: 375.4828 - val_root_mean_squared_error: 19.3774\n",
            "Epoch 26/200\n",
            "3/3 [==============================] - 0s 62ms/step - loss: 226.1354 - root_mean_squared_error: 15.0378 - val_loss: 369.4083 - val_root_mean_squared_error: 19.2200\n",
            "Epoch 27/200\n",
            "3/3 [==============================] - 0s 47ms/step - loss: 221.9431 - root_mean_squared_error: 14.8978 - val_loss: 363.4629 - val_root_mean_squared_error: 19.0647\n",
            "Epoch 28/200\n",
            "3/3 [==============================] - 0s 79ms/step - loss: 217.7971 - root_mean_squared_error: 14.7580 - val_loss: 357.9010 - val_root_mean_squared_error: 18.9183\n",
            "Epoch 29/200\n",
            "3/3 [==============================] - 0s 66ms/step - loss: 213.8218 - root_mean_squared_error: 14.6226 - val_loss: 352.3458 - val_root_mean_squared_error: 18.7709\n",
            "Epoch 30/200\n",
            "3/3 [==============================] - 0s 60ms/step - loss: 209.9324 - root_mean_squared_error: 14.4890 - val_loss: 346.7158 - val_root_mean_squared_error: 18.6203\n",
            "Epoch 31/200\n",
            "3/3 [==============================] - 0s 37ms/step - loss: 205.9576 - root_mean_squared_error: 14.3512 - val_loss: 340.9033 - val_root_mean_squared_error: 18.4636\n",
            "Epoch 32/200\n",
            "3/3 [==============================] - 0s 63ms/step - loss: 201.9383 - root_mean_squared_error: 14.2105 - val_loss: 335.0026 - val_root_mean_squared_error: 18.3031\n",
            "Epoch 33/200\n",
            "3/3 [==============================] - 0s 45ms/step - loss: 197.8358 - root_mean_squared_error: 14.0654 - val_loss: 329.2371 - val_root_mean_squared_error: 18.1449\n",
            "Epoch 34/200\n",
            "3/3 [==============================] - 0s 63ms/step - loss: 193.9124 - root_mean_squared_error: 13.9252 - val_loss: 323.8148 - val_root_mean_squared_error: 17.9949\n",
            "Epoch 35/200\n",
            "3/3 [==============================] - 0s 34ms/step - loss: 190.2453 - root_mean_squared_error: 13.7929 - val_loss: 318.6330 - val_root_mean_squared_error: 17.8503\n",
            "Epoch 36/200\n",
            "3/3 [==============================] - 0s 36ms/step - loss: 186.6191 - root_mean_squared_error: 13.6609 - val_loss: 313.4214 - val_root_mean_squared_error: 17.7037\n",
            "Epoch 37/200\n",
            "3/3 [==============================] - 0s 47ms/step - loss: 183.0774 - root_mean_squared_error: 13.5306 - val_loss: 308.2050 - val_root_mean_squared_error: 17.5558\n",
            "Epoch 38/200\n",
            "3/3 [==============================] - 0s 38ms/step - loss: 179.6645 - root_mean_squared_error: 13.4039 - val_loss: 303.1525 - val_root_mean_squared_error: 17.4113\n",
            "Epoch 39/200\n",
            "3/3 [==============================] - 0s 45ms/step - loss: 176.2211 - root_mean_squared_error: 13.2748 - val_loss: 298.1660 - val_root_mean_squared_error: 17.2675\n",
            "Epoch 40/200\n",
            "3/3 [==============================] - 0s 60ms/step - loss: 172.7650 - root_mean_squared_error: 13.1440 - val_loss: 293.1743 - val_root_mean_squared_error: 17.1223\n",
            "Epoch 41/200\n",
            "3/3 [==============================] - 0s 43ms/step - loss: 169.5186 - root_mean_squared_error: 13.0199 - val_loss: 288.4036 - val_root_mean_squared_error: 16.9824\n",
            "Epoch 42/200\n",
            "3/3 [==============================] - 0s 51ms/step - loss: 166.3382 - root_mean_squared_error: 12.8972 - val_loss: 283.7934 - val_root_mean_squared_error: 16.8462\n",
            "Epoch 43/200\n",
            "3/3 [==============================] - 0s 74ms/step - loss: 163.2816 - root_mean_squared_error: 12.7782 - val_loss: 279.2049 - val_root_mean_squared_error: 16.7094\n",
            "Epoch 44/200\n",
            "3/3 [==============================] - 0s 58ms/step - loss: 160.2218 - root_mean_squared_error: 12.6579 - val_loss: 274.6884 - val_root_mean_squared_error: 16.5737\n",
            "Epoch 45/200\n",
            "3/3 [==============================] - 0s 60ms/step - loss: 157.3018 - root_mean_squared_error: 12.5420 - val_loss: 270.1285 - val_root_mean_squared_error: 16.4356\n",
            "Epoch 46/200\n",
            "3/3 [==============================] - 0s 59ms/step - loss: 154.4269 - root_mean_squared_error: 12.4269 - val_loss: 265.6050 - val_root_mean_squared_error: 16.2974\n",
            "Epoch 47/200\n",
            "3/3 [==============================] - 0s 74ms/step - loss: 151.4473 - root_mean_squared_error: 12.3064 - val_loss: 261.2607 - val_root_mean_squared_error: 16.1636\n",
            "Epoch 48/200\n",
            "3/3 [==============================] - 0s 57ms/step - loss: 148.6741 - root_mean_squared_error: 12.1932 - val_loss: 256.9816 - val_root_mean_squared_error: 16.0306\n",
            "Epoch 49/200\n",
            "3/3 [==============================] - 0s 68ms/step - loss: 146.0075 - root_mean_squared_error: 12.0834 - val_loss: 252.9794 - val_root_mean_squared_error: 15.9053\n",
            "Epoch 50/200\n",
            "3/3 [==============================] - 0s 83ms/step - loss: 143.4556 - root_mean_squared_error: 11.9773 - val_loss: 249.3149 - val_root_mean_squared_error: 15.7897\n",
            "Epoch 51/200\n",
            "3/3 [==============================] - 0s 101ms/step - loss: 141.1479 - root_mean_squared_error: 11.8806 - val_loss: 245.8522 - val_root_mean_squared_error: 15.6797\n",
            "Epoch 52/200\n",
            "3/3 [==============================] - 0s 82ms/step - loss: 138.8671 - root_mean_squared_error: 11.7842 - val_loss: 242.2753 - val_root_mean_squared_error: 15.5652\n",
            "Epoch 53/200\n",
            "3/3 [==============================] - 0s 68ms/step - loss: 136.7204 - root_mean_squared_error: 11.6928 - val_loss: 238.6365 - val_root_mean_squared_error: 15.4479\n",
            "Epoch 54/200\n",
            "3/3 [==============================] - 0s 73ms/step - loss: 134.4556 - root_mean_squared_error: 11.5955 - val_loss: 235.3508 - val_root_mean_squared_error: 15.3411\n",
            "Epoch 55/200\n",
            "3/3 [==============================] - 0s 88ms/step - loss: 132.4010 - root_mean_squared_error: 11.5066 - val_loss: 232.0489 - val_root_mean_squared_error: 15.2332\n",
            "Epoch 56/200\n",
            "3/3 [==============================] - 0s 50ms/step - loss: 130.3824 - root_mean_squared_error: 11.4185 - val_loss: 228.5465 - val_root_mean_squared_error: 15.1178\n",
            "Epoch 57/200\n",
            "3/3 [==============================] - 0s 57ms/step - loss: 128.2067 - root_mean_squared_error: 11.3228 - val_loss: 225.3003 - val_root_mean_squared_error: 15.0100\n",
            "Epoch 58/200\n",
            "3/3 [==============================] - 0s 64ms/step - loss: 126.2808 - root_mean_squared_error: 11.2375 - val_loss: 222.4149 - val_root_mean_squared_error: 14.9136\n",
            "Epoch 59/200\n",
            "3/3 [==============================] - 0s 95ms/step - loss: 124.5210 - root_mean_squared_error: 11.1589 - val_loss: 219.5357 - val_root_mean_squared_error: 14.8167\n",
            "Epoch 60/200\n",
            "3/3 [==============================] - 0s 74ms/step - loss: 122.8374 - root_mean_squared_error: 11.0832 - val_loss: 216.7000 - val_root_mean_squared_error: 14.7207\n",
            "Epoch 61/200\n",
            "3/3 [==============================] - 0s 61ms/step - loss: 121.0171 - root_mean_squared_error: 11.0008 - val_loss: 213.9363 - val_root_mean_squared_error: 14.6266\n",
            "Epoch 62/200\n",
            "3/3 [==============================] - 0s 77ms/step - loss: 119.3541 - root_mean_squared_error: 10.9249 - val_loss: 210.8918 - val_root_mean_squared_error: 14.5221\n",
            "Epoch 63/200\n",
            "3/3 [==============================] - 0s 56ms/step - loss: 117.5530 - root_mean_squared_error: 10.8422 - val_loss: 207.8215 - val_root_mean_squared_error: 14.4160\n",
            "Epoch 64/200\n",
            "3/3 [==============================] - 0s 48ms/step - loss: 115.6960 - root_mean_squared_error: 10.7562 - val_loss: 204.8448 - val_root_mean_squared_error: 14.3124\n",
            "Epoch 65/200\n",
            "3/3 [==============================] - 0s 35ms/step - loss: 113.9086 - root_mean_squared_error: 10.6728 - val_loss: 201.7563 - val_root_mean_squared_error: 14.2041\n",
            "Epoch 66/200\n",
            "3/3 [==============================] - 0s 57ms/step - loss: 112.2139 - root_mean_squared_error: 10.5931 - val_loss: 198.6172 - val_root_mean_squared_error: 14.0932\n",
            "Epoch 67/200\n",
            "3/3 [==============================] - 0s 33ms/step - loss: 110.4150 - root_mean_squared_error: 10.5079 - val_loss: 195.7440 - val_root_mean_squared_error: 13.9909\n",
            "Epoch 68/200\n",
            "3/3 [==============================] - 0s 34ms/step - loss: 108.7096 - root_mean_squared_error: 10.4264 - val_loss: 193.1599 - val_root_mean_squared_error: 13.8982\n",
            "Epoch 69/200\n",
            "3/3 [==============================] - 0s 63ms/step - loss: 107.2759 - root_mean_squared_error: 10.3574 - val_loss: 190.6367 - val_root_mean_squared_error: 13.8071\n",
            "Epoch 70/200\n",
            "3/3 [==============================] - 0s 29ms/step - loss: 105.8381 - root_mean_squared_error: 10.2878 - val_loss: 188.3212 - val_root_mean_squared_error: 13.7230\n",
            "Epoch 71/200\n",
            "3/3 [==============================] - 0s 52ms/step - loss: 104.5089 - root_mean_squared_error: 10.2230 - val_loss: 185.9253 - val_root_mean_squared_error: 13.6354\n",
            "Epoch 72/200\n",
            "3/3 [==============================] - 0s 37ms/step - loss: 103.1111 - root_mean_squared_error: 10.1544 - val_loss: 183.2577 - val_root_mean_squared_error: 13.5373\n",
            "Epoch 73/200\n",
            "3/3 [==============================] - 0s 71ms/step - loss: 101.6349 - root_mean_squared_error: 10.0814 - val_loss: 180.4367 - val_root_mean_squared_error: 13.4327\n",
            "Epoch 74/200\n",
            "3/3 [==============================] - 0s 40ms/step - loss: 100.0952 - root_mean_squared_error: 10.0048 - val_loss: 177.5817 - val_root_mean_squared_error: 13.3260\n",
            "Epoch 75/200\n",
            "3/3 [==============================] - 0s 35ms/step - loss: 98.5056 - root_mean_squared_error: 9.9250 - val_loss: 174.6432 - val_root_mean_squared_error: 13.2153\n",
            "Epoch 76/200\n",
            "3/3 [==============================] - 0s 46ms/step - loss: 96.9147 - root_mean_squared_error: 9.8445 - val_loss: 171.6785 - val_root_mean_squared_error: 13.1026\n",
            "Epoch 77/200\n",
            "3/3 [==============================] - 0s 35ms/step - loss: 95.3733 - root_mean_squared_error: 9.7659 - val_loss: 168.9062 - val_root_mean_squared_error: 12.9964\n",
            "Epoch 78/200\n",
            "3/3 [==============================] - 0s 73ms/step - loss: 93.8813 - root_mean_squared_error: 9.6892 - val_loss: 166.3763 - val_root_mean_squared_error: 12.8987\n",
            "Epoch 79/200\n",
            "3/3 [==============================] - 0s 54ms/step - loss: 92.5600 - root_mean_squared_error: 9.6208 - val_loss: 164.0207 - val_root_mean_squared_error: 12.8071\n",
            "Epoch 80/200\n",
            "3/3 [==============================] - 0s 57ms/step - loss: 91.3460 - root_mean_squared_error: 9.5575 - val_loss: 161.7899 - val_root_mean_squared_error: 12.7197\n",
            "Epoch 81/200\n",
            "3/3 [==============================] - 0s 38ms/step - loss: 90.2507 - root_mean_squared_error: 9.5000 - val_loss: 159.6251 - val_root_mean_squared_error: 12.6343\n",
            "Epoch 82/200\n",
            "3/3 [==============================] - 0s 72ms/step - loss: 89.0740 - root_mean_squared_error: 9.4379 - val_loss: 157.8435 - val_root_mean_squared_error: 12.5636\n",
            "Epoch 83/200\n",
            "3/3 [==============================] - 0s 34ms/step - loss: 88.1860 - root_mean_squared_error: 9.3907 - val_loss: 156.0101 - val_root_mean_squared_error: 12.4904\n",
            "Epoch 84/200\n",
            "3/3 [==============================] - 0s 41ms/step - loss: 87.1812 - root_mean_squared_error: 9.3371 - val_loss: 153.9619 - val_root_mean_squared_error: 12.4081\n",
            "Epoch 85/200\n",
            "3/3 [==============================] - 0s 32ms/step - loss: 86.2639 - root_mean_squared_error: 9.2878 - val_loss: 151.7561 - val_root_mean_squared_error: 12.3189\n",
            "Epoch 86/200\n",
            "3/3 [==============================] - 0s 40ms/step - loss: 85.1209 - root_mean_squared_error: 9.2261 - val_loss: 149.5388 - val_root_mean_squared_error: 12.2286\n",
            "Epoch 87/200\n",
            "3/3 [==============================] - 0s 50ms/step - loss: 83.9993 - root_mean_squared_error: 9.1651 - val_loss: 147.3746 - val_root_mean_squared_error: 12.1398\n",
            "Epoch 88/200\n",
            "3/3 [==============================] - 0s 34ms/step - loss: 82.9044 - root_mean_squared_error: 9.1052 - val_loss: 145.2330 - val_root_mean_squared_error: 12.0513\n",
            "Epoch 89/200\n",
            "3/3 [==============================] - 0s 78ms/step - loss: 81.9168 - root_mean_squared_error: 9.0508 - val_loss: 143.1185 - val_root_mean_squared_error: 11.9632\n",
            "Epoch 90/200\n",
            "3/3 [==============================] - 0s 79ms/step - loss: 80.9812 - root_mean_squared_error: 8.9990 - val_loss: 141.0873 - val_root_mean_squared_error: 11.8780\n",
            "Epoch 91/200\n",
            "3/3 [==============================] - 0s 81ms/step - loss: 79.9986 - root_mean_squared_error: 8.9442 - val_loss: 139.1963 - val_root_mean_squared_error: 11.7981\n",
            "Epoch 92/200\n",
            "3/3 [==============================] - 0s 65ms/step - loss: 79.1156 - root_mean_squared_error: 8.8947 - val_loss: 137.4659 - val_root_mean_squared_error: 11.7246\n",
            "Epoch 93/200\n",
            "3/3 [==============================] - 0s 74ms/step - loss: 78.3396 - root_mean_squared_error: 8.8510 - val_loss: 135.7558 - val_root_mean_squared_error: 11.6514\n",
            "Epoch 94/200\n",
            "3/3 [==============================] - 0s 54ms/step - loss: 77.5614 - root_mean_squared_error: 8.8069 - val_loss: 134.0853 - val_root_mean_squared_error: 11.5795\n",
            "Epoch 95/200\n",
            "3/3 [==============================] - 0s 22ms/step - loss: 76.8192 - root_mean_squared_error: 8.7647 - val_loss: 132.5078 - val_root_mean_squared_error: 11.5112\n",
            "Epoch 96/200\n",
            "3/3 [==============================] - 0s 16ms/step - loss: 76.1455 - root_mean_squared_error: 8.7261 - val_loss: 131.0481 - val_root_mean_squared_error: 11.4476\n",
            "Epoch 97/200\n",
            "3/3 [==============================] - 0s 16ms/step - loss: 75.4695 - root_mean_squared_error: 8.6873 - val_loss: 129.6388 - val_root_mean_squared_error: 11.3859\n",
            "Epoch 98/200\n",
            "3/3 [==============================] - 0s 16ms/step - loss: 74.8493 - root_mean_squared_error: 8.6515 - val_loss: 128.2231 - val_root_mean_squared_error: 11.3236\n",
            "Epoch 99/200\n",
            "3/3 [==============================] - 0s 16ms/step - loss: 74.2265 - root_mean_squared_error: 8.6155 - val_loss: 126.9917 - val_root_mean_squared_error: 11.2691\n",
            "Epoch 100/200\n",
            "3/3 [==============================] - 0s 17ms/step - loss: 73.7416 - root_mean_squared_error: 8.5873 - val_loss: 126.0220 - val_root_mean_squared_error: 11.2260\n",
            "Epoch 101/200\n",
            "3/3 [==============================] - 0s 17ms/step - loss: 73.3267 - root_mean_squared_error: 8.5631 - val_loss: 125.2502 - val_root_mean_squared_error: 11.1915\n",
            "Epoch 102/200\n",
            "3/3 [==============================] - 0s 16ms/step - loss: 72.9880 - root_mean_squared_error: 8.5433 - val_loss: 124.3406 - val_root_mean_squared_error: 11.1508\n",
            "Epoch 103/200\n",
            "3/3 [==============================] - 0s 16ms/step - loss: 72.5776 - root_mean_squared_error: 8.5192 - val_loss: 123.2556 - val_root_mean_squared_error: 11.1021\n",
            "Epoch 104/200\n",
            "3/3 [==============================] - 0s 17ms/step - loss: 72.1453 - root_mean_squared_error: 8.4938 - val_loss: 122.1065 - val_root_mean_squared_error: 11.0502\n",
            "Epoch 105/200\n",
            "3/3 [==============================] - 0s 16ms/step - loss: 71.6830 - root_mean_squared_error: 8.4666 - val_loss: 120.9321 - val_root_mean_squared_error: 10.9969\n",
            "Epoch 106/200\n",
            "3/3 [==============================] - 0s 17ms/step - loss: 71.2225 - root_mean_squared_error: 8.4393 - val_loss: 119.6506 - val_root_mean_squared_error: 10.9385\n",
            "Epoch 107/200\n",
            "3/3 [==============================] - 0s 16ms/step - loss: 70.6568 - root_mean_squared_error: 8.4058 - val_loss: 118.4145 - val_root_mean_squared_error: 10.8818\n",
            "Epoch 108/200\n",
            "3/3 [==============================] - 0s 16ms/step - loss: 70.2325 - root_mean_squared_error: 8.3805 - val_loss: 117.1912 - val_root_mean_squared_error: 10.8255\n",
            "Epoch 109/200\n",
            "3/3 [==============================] - 0s 18ms/step - loss: 69.7231 - root_mean_squared_error: 8.3500 - val_loss: 116.1339 - val_root_mean_squared_error: 10.7765\n",
            "Epoch 110/200\n",
            "3/3 [==============================] - 0s 18ms/step - loss: 69.2966 - root_mean_squared_error: 8.3245 - val_loss: 115.0662 - val_root_mean_squared_error: 10.7269\n",
            "Epoch 111/200\n",
            "3/3 [==============================] - 0s 21ms/step - loss: 68.8817 - root_mean_squared_error: 8.2995 - val_loss: 114.0105 - val_root_mean_squared_error: 10.6776\n",
            "Epoch 112/200\n",
            "3/3 [==============================] - 0s 29ms/step - loss: 68.5038 - root_mean_squared_error: 8.2767 - val_loss: 112.9784 - val_root_mean_squared_error: 10.6291\n",
            "Epoch 113/200\n",
            "3/3 [==============================] - 0s 29ms/step - loss: 68.1551 - root_mean_squared_error: 8.2556 - val_loss: 111.9110 - val_root_mean_squared_error: 10.5788\n",
            "Epoch 114/200\n",
            "3/3 [==============================] - 0s 28ms/step - loss: 67.7257 - root_mean_squared_error: 8.2296 - val_loss: 110.8674 - val_root_mean_squared_error: 10.5294\n",
            "Epoch 115/200\n",
            "3/3 [==============================] - 0s 19ms/step - loss: 67.3019 - root_mean_squared_error: 8.2038 - val_loss: 109.6956 - val_root_mean_squared_error: 10.4736\n",
            "Epoch 116/200\n",
            "3/3 [==============================] - 0s 16ms/step - loss: 66.9002 - root_mean_squared_error: 8.1793 - val_loss: 108.4765 - val_root_mean_squared_error: 10.4152\n",
            "Epoch 117/200\n",
            "3/3 [==============================] - 0s 16ms/step - loss: 66.5060 - root_mean_squared_error: 8.1551 - val_loss: 107.2991 - val_root_mean_squared_error: 10.3585\n",
            "Epoch 118/200\n",
            "3/3 [==============================] - 0s 16ms/step - loss: 66.0759 - root_mean_squared_error: 8.1287 - val_loss: 106.1464 - val_root_mean_squared_error: 10.3027\n",
            "Epoch 119/200\n",
            "3/3 [==============================] - 0s 16ms/step - loss: 65.6578 - root_mean_squared_error: 8.1030 - val_loss: 105.0563 - val_root_mean_squared_error: 10.2497\n",
            "Epoch 120/200\n",
            "3/3 [==============================] - 0s 17ms/step - loss: 65.3250 - root_mean_squared_error: 8.0824 - val_loss: 104.0451 - val_root_mean_squared_error: 10.2003\n",
            "Epoch 121/200\n",
            "3/3 [==============================] - 0s 25ms/step - loss: 64.9943 - root_mean_squared_error: 8.0619 - val_loss: 103.1760 - val_root_mean_squared_error: 10.1576\n",
            "Epoch 122/200\n",
            "3/3 [==============================] - 0s 18ms/step - loss: 64.7524 - root_mean_squared_error: 8.0469 - val_loss: 102.4740 - val_root_mean_squared_error: 10.1229\n",
            "Epoch 123/200\n",
            "3/3 [==============================] - 0s 16ms/step - loss: 64.4949 - root_mean_squared_error: 8.0309 - val_loss: 101.8742 - val_root_mean_squared_error: 10.0933\n",
            "Epoch 124/200\n",
            "3/3 [==============================] - 0s 17ms/step - loss: 64.3355 - root_mean_squared_error: 8.0209 - val_loss: 101.1815 - val_root_mean_squared_error: 10.0589\n",
            "Epoch 125/200\n",
            "3/3 [==============================] - 0s 17ms/step - loss: 64.0692 - root_mean_squared_error: 8.0043 - val_loss: 100.5021 - val_root_mean_squared_error: 10.0251\n",
            "Epoch 126/200\n",
            "3/3 [==============================] - 0s 16ms/step - loss: 63.8646 - root_mean_squared_error: 7.9915 - val_loss: 99.8004 - val_root_mean_squared_error: 9.9900\n",
            "Epoch 127/200\n",
            "3/3 [==============================] - 0s 16ms/step - loss: 63.6337 - root_mean_squared_error: 7.9771 - val_loss: 99.0295 - val_root_mean_squared_error: 9.9514\n",
            "Epoch 128/200\n",
            "3/3 [==============================] - 0s 16ms/step - loss: 63.3897 - root_mean_squared_error: 7.9618 - val_loss: 98.1488 - val_root_mean_squared_error: 9.9070\n",
            "Epoch 129/200\n",
            "3/3 [==============================] - 0s 18ms/step - loss: 63.1895 - root_mean_squared_error: 7.9492 - val_loss: 97.2966 - val_root_mean_squared_error: 9.8639\n",
            "Epoch 130/200\n",
            "3/3 [==============================] - 0s 20ms/step - loss: 62.9228 - root_mean_squared_error: 7.9324 - val_loss: 96.6673 - val_root_mean_squared_error: 9.8320\n",
            "Epoch 131/200\n",
            "3/3 [==============================] - 0s 29ms/step - loss: 62.7400 - root_mean_squared_error: 7.9209 - val_loss: 96.1028 - val_root_mean_squared_error: 9.8032\n",
            "Epoch 132/200\n",
            "3/3 [==============================] - 0s 23ms/step - loss: 62.5786 - root_mean_squared_error: 7.9107 - val_loss: 95.5601 - val_root_mean_squared_error: 9.7755\n",
            "Epoch 133/200\n",
            "3/3 [==============================] - 0s 21ms/step - loss: 62.4250 - root_mean_squared_error: 7.9009 - val_loss: 94.8801 - val_root_mean_squared_error: 9.7406\n",
            "Epoch 134/200\n",
            "3/3 [==============================] - 0s 19ms/step - loss: 62.2387 - root_mean_squared_error: 7.8892 - val_loss: 94.2195 - val_root_mean_squared_error: 9.7067\n",
            "Epoch 135/200\n",
            "3/3 [==============================] - 0s 22ms/step - loss: 62.0879 - root_mean_squared_error: 7.8796 - val_loss: 93.5125 - val_root_mean_squared_error: 9.6702\n",
            "Epoch 136/200\n",
            "3/3 [==============================] - 0s 15ms/step - loss: 61.8920 - root_mean_squared_error: 7.8671 - val_loss: 92.8077 - val_root_mean_squared_error: 9.6337\n",
            "Epoch 137/200\n",
            "3/3 [==============================] - 0s 16ms/step - loss: 61.7023 - root_mean_squared_error: 7.8551 - val_loss: 92.1252 - val_root_mean_squared_error: 9.5982\n",
            "Epoch 138/200\n",
            "3/3 [==============================] - 0s 16ms/step - loss: 61.5409 - root_mean_squared_error: 7.8448 - val_loss: 91.6276 - val_root_mean_squared_error: 9.5722\n",
            "Epoch 139/200\n",
            "3/3 [==============================] - 0s 16ms/step - loss: 61.4148 - root_mean_squared_error: 7.8368 - val_loss: 91.3333 - val_root_mean_squared_error: 9.5568\n",
            "Epoch 140/200\n",
            "3/3 [==============================] - 0s 17ms/step - loss: 61.3412 - root_mean_squared_error: 7.8321 - val_loss: 91.0074 - val_root_mean_squared_error: 9.5398\n",
            "Epoch 141/200\n",
            "3/3 [==============================] - 0s 17ms/step - loss: 61.2355 - root_mean_squared_error: 7.8253 - val_loss: 90.4287 - val_root_mean_squared_error: 9.5094\n",
            "Epoch 142/200\n",
            "3/3 [==============================] - 0s 16ms/step - loss: 61.0945 - root_mean_squared_error: 7.8163 - val_loss: 89.6553 - val_root_mean_squared_error: 9.4686\n",
            "Epoch 143/200\n",
            "3/3 [==============================] - 0s 18ms/step - loss: 60.9087 - root_mean_squared_error: 7.8044 - val_loss: 88.8093 - val_root_mean_squared_error: 9.4239\n",
            "Epoch 144/200\n",
            "3/3 [==============================] - 0s 16ms/step - loss: 60.7411 - root_mean_squared_error: 7.7937 - val_loss: 88.0008 - val_root_mean_squared_error: 9.3809\n",
            "Epoch 145/200\n",
            "3/3 [==============================] - 0s 16ms/step - loss: 60.5096 - root_mean_squared_error: 7.7788 - val_loss: 87.3292 - val_root_mean_squared_error: 9.3450\n",
            "Epoch 146/200\n",
            "3/3 [==============================] - 0s 17ms/step - loss: 60.4237 - root_mean_squared_error: 7.7733 - val_loss: 86.7292 - val_root_mean_squared_error: 9.3129\n",
            "Epoch 147/200\n",
            "3/3 [==============================] - 0s 16ms/step - loss: 60.2785 - root_mean_squared_error: 7.7639 - val_loss: 86.1680 - val_root_mean_squared_error: 9.2827\n",
            "Epoch 148/200\n",
            "3/3 [==============================] - 0s 16ms/step - loss: 60.1763 - root_mean_squared_error: 7.7573 - val_loss: 85.5079 - val_root_mean_squared_error: 9.2471\n",
            "Epoch 149/200\n",
            "3/3 [==============================] - 0s 16ms/step - loss: 60.0423 - root_mean_squared_error: 7.7487 - val_loss: 84.9330 - val_root_mean_squared_error: 9.2159\n",
            "Epoch 150/200\n",
            "3/3 [==============================] - 0s 17ms/step - loss: 59.9568 - root_mean_squared_error: 7.7432 - val_loss: 84.6301 - val_root_mean_squared_error: 9.1995\n",
            "Epoch 151/200\n",
            "3/3 [==============================] - 0s 28ms/step - loss: 59.8950 - root_mean_squared_error: 7.7392 - val_loss: 84.4688 - val_root_mean_squared_error: 9.1907\n",
            "Epoch 152/200\n",
            "3/3 [==============================] - 0s 21ms/step - loss: 59.8678 - root_mean_squared_error: 7.7374 - val_loss: 84.2765 - val_root_mean_squared_error: 9.1802\n",
            "Epoch 153/200\n",
            "3/3 [==============================] - 0s 29ms/step - loss: 59.8206 - root_mean_squared_error: 7.7344 - val_loss: 83.9324 - val_root_mean_squared_error: 9.1615\n",
            "Epoch 154/200\n",
            "3/3 [==============================] - 0s 22ms/step - loss: 59.7563 - root_mean_squared_error: 7.7302 - val_loss: 83.4381 - val_root_mean_squared_error: 9.1344\n",
            "Epoch 155/200\n",
            "3/3 [==============================] - 0s 20ms/step - loss: 59.6624 - root_mean_squared_error: 7.7241 - val_loss: 82.9569 - val_root_mean_squared_error: 9.1081\n",
            "Epoch 156/200\n",
            "3/3 [==============================] - 0s 20ms/step - loss: 59.5583 - root_mean_squared_error: 7.7174 - val_loss: 82.5121 - val_root_mean_squared_error: 9.0836\n",
            "Epoch 157/200\n",
            "3/3 [==============================] - 0s 17ms/step - loss: 59.5185 - root_mean_squared_error: 7.7148 - val_loss: 81.9421 - val_root_mean_squared_error: 9.0522\n",
            "Epoch 158/200\n",
            "3/3 [==============================] - 0s 16ms/step - loss: 59.3877 - root_mean_squared_error: 7.7063 - val_loss: 81.3956 - val_root_mean_squared_error: 9.0219\n",
            "Epoch 159/200\n",
            "3/3 [==============================] - 0s 16ms/step - loss: 59.3298 - root_mean_squared_error: 7.7026 - val_loss: 81.0121 - val_root_mean_squared_error: 9.0007\n",
            "Epoch 160/200\n",
            "3/3 [==============================] - 0s 18ms/step - loss: 59.2793 - root_mean_squared_error: 7.6993 - val_loss: 80.6743 - val_root_mean_squared_error: 8.9819\n",
            "Epoch 161/200\n",
            "3/3 [==============================] - 0s 16ms/step - loss: 59.2174 - root_mean_squared_error: 7.6953 - val_loss: 80.2648 - val_root_mean_squared_error: 8.9591\n",
            "Epoch 162/200\n",
            "3/3 [==============================] - 0s 16ms/step - loss: 59.1448 - root_mean_squared_error: 7.6906 - val_loss: 79.7431 - val_root_mean_squared_error: 8.9299\n",
            "Epoch 163/200\n",
            "3/3 [==============================] - 0s 17ms/step - loss: 59.0923 - root_mean_squared_error: 7.6872 - val_loss: 79.2227 - val_root_mean_squared_error: 8.9007\n",
            "Epoch 164/200\n",
            "3/3 [==============================] - 0s 16ms/step - loss: 59.0002 - root_mean_squared_error: 7.6812 - val_loss: 78.7756 - val_root_mean_squared_error: 8.8756\n",
            "Epoch 165/200\n",
            "3/3 [==============================] - 0s 17ms/step - loss: 58.9740 - root_mean_squared_error: 7.6795 - val_loss: 78.3223 - val_root_mean_squared_error: 8.8500\n",
            "Epoch 166/200\n",
            "3/3 [==============================] - 0s 18ms/step - loss: 58.9030 - root_mean_squared_error: 7.6748 - val_loss: 77.9045 - val_root_mean_squared_error: 8.8264\n",
            "Epoch 167/200\n",
            "3/3 [==============================] - 0s 16ms/step - loss: 58.8813 - root_mean_squared_error: 7.6734 - val_loss: 77.4396 - val_root_mean_squared_error: 8.8000\n",
            "Epoch 168/200\n",
            "3/3 [==============================] - 0s 16ms/step - loss: 58.7960 - root_mean_squared_error: 7.6679 - val_loss: 76.9557 - val_root_mean_squared_error: 8.7724\n",
            "Epoch 169/200\n",
            "3/3 [==============================] - 0s 16ms/step - loss: 58.7736 - root_mean_squared_error: 7.6664 - val_loss: 76.4625 - val_root_mean_squared_error: 8.7443\n",
            "Epoch 170/200\n",
            "3/3 [==============================] - 0s 17ms/step - loss: 58.7082 - root_mean_squared_error: 7.6621 - val_loss: 76.0156 - val_root_mean_squared_error: 8.7187\n",
            "Epoch 171/200\n",
            "3/3 [==============================] - 0s 30ms/step - loss: 58.6681 - root_mean_squared_error: 7.6595 - val_loss: 75.5687 - val_root_mean_squared_error: 8.6930\n",
            "Epoch 172/200\n",
            "3/3 [==============================] - 0s 22ms/step - loss: 58.6216 - root_mean_squared_error: 7.6565 - val_loss: 75.2673 - val_root_mean_squared_error: 8.6757\n",
            "Epoch 173/200\n",
            "3/3 [==============================] - 0s 28ms/step - loss: 58.6163 - root_mean_squared_error: 7.6561 - val_loss: 75.0425 - val_root_mean_squared_error: 8.6627\n",
            "Epoch 174/200\n",
            "3/3 [==============================] - 0s 29ms/step - loss: 58.5932 - root_mean_squared_error: 7.6546 - val_loss: 74.8350 - val_root_mean_squared_error: 8.6507\n",
            "Epoch 175/200\n",
            "3/3 [==============================] - 0s 19ms/step - loss: 58.5749 - root_mean_squared_error: 7.6534 - val_loss: 74.7131 - val_root_mean_squared_error: 8.6437\n",
            "Epoch 176/200\n",
            "3/3 [==============================] - 0s 26ms/step - loss: 58.5641 - root_mean_squared_error: 7.6527 - val_loss: 74.5713 - val_root_mean_squared_error: 8.6355\n",
            "Epoch 177/200\n",
            "3/3 [==============================] - 0s 17ms/step - loss: 58.5597 - root_mean_squared_error: 7.6524 - val_loss: 74.5273 - val_root_mean_squared_error: 8.6329\n",
            "Epoch 178/200\n",
            "3/3 [==============================] - 0s 17ms/step - loss: 58.5606 - root_mean_squared_error: 7.6525 - val_loss: 74.4662 - val_root_mean_squared_error: 8.6294\n",
            "Epoch 179/200\n",
            "3/3 [==============================] - 0s 17ms/step - loss: 58.5568 - root_mean_squared_error: 7.6522 - val_loss: 74.5037 - val_root_mean_squared_error: 8.6316\n",
            "Epoch 180/200\n",
            "3/3 [==============================] - 0s 18ms/step - loss: 58.5601 - root_mean_squared_error: 7.6525 - val_loss: 74.7035 - val_root_mean_squared_error: 8.6431\n",
            "Epoch 181/200\n",
            "3/3 [==============================] - 0s 20ms/step - loss: 58.5712 - root_mean_squared_error: 7.6532 - val_loss: 74.9048 - val_root_mean_squared_error: 8.6548\n",
            "Epoch 182/200\n",
            "3/3 [==============================] - 0s 16ms/step - loss: 58.6064 - root_mean_squared_error: 7.6555 - val_loss: 75.1538 - val_root_mean_squared_error: 8.6691\n",
            "Epoch 183/200\n",
            "3/3 [==============================] - 0s 17ms/step - loss: 58.6027 - root_mean_squared_error: 7.6552 - val_loss: 75.2138 - val_root_mean_squared_error: 8.6726\n",
            "Epoch 184/200\n",
            "3/3 [==============================] - 0s 15ms/step - loss: 58.6097 - root_mean_squared_error: 7.6557 - val_loss: 75.4035 - val_root_mean_squared_error: 8.6835\n",
            "Epoch 185/200\n",
            "3/3 [==============================] - 0s 27ms/step - loss: 58.6152 - root_mean_squared_error: 7.6561 - val_loss: 75.7436 - val_root_mean_squared_error: 8.7031\n",
            "Epoch 186/200\n",
            "3/3 [==============================] - 0s 18ms/step - loss: 58.6726 - root_mean_squared_error: 7.6598 - val_loss: 76.0242 - val_root_mean_squared_error: 8.7192\n",
            "Epoch 187/200\n",
            "3/3 [==============================] - 0s 16ms/step - loss: 58.6785 - root_mean_squared_error: 7.6602 - val_loss: 76.1015 - val_root_mean_squared_error: 8.7236\n",
            "Epoch 188/200\n",
            "3/3 [==============================] - 0s 15ms/step - loss: 58.6844 - root_mean_squared_error: 7.6606 - val_loss: 76.1362 - val_root_mean_squared_error: 8.7256\n",
            "Epoch 189/200\n",
            "3/3 [==============================] - 0s 18ms/step - loss: 58.6876 - root_mean_squared_error: 7.6608 - val_loss: 75.9994 - val_root_mean_squared_error: 8.7178\n",
            "Epoch 190/200\n",
            "3/3 [==============================] - 0s 19ms/step - loss: 58.6782 - root_mean_squared_error: 7.6602 - val_loss: 75.7253 - val_root_mean_squared_error: 8.7020\n",
            "Epoch 191/200\n",
            "3/3 [==============================] - 0s 21ms/step - loss: 58.6333 - root_mean_squared_error: 7.6572 - val_loss: 75.3733 - val_root_mean_squared_error: 8.6818\n",
            "Epoch 192/200\n",
            "3/3 [==============================] - 0s 29ms/step - loss: 58.5969 - root_mean_squared_error: 7.6549 - val_loss: 74.9173 - val_root_mean_squared_error: 8.6555\n",
            "Epoch 193/200\n",
            "3/3 [==============================] - 0s 29ms/step - loss: 58.5886 - root_mean_squared_error: 7.6543 - val_loss: 74.5504 - val_root_mean_squared_error: 8.6343\n",
            "Epoch 194/200\n",
            "3/3 [==============================] - 0s 19ms/step - loss: 58.5698 - root_mean_squared_error: 7.6531 - val_loss: 74.4211 - val_root_mean_squared_error: 8.6268\n",
            "Epoch 195/200\n",
            "3/3 [==============================] - 0s 17ms/step - loss: 58.5555 - root_mean_squared_error: 7.6522 - val_loss: 74.4898 - val_root_mean_squared_error: 8.6307\n",
            "Epoch 196/200\n",
            "3/3 [==============================] - 0s 20ms/step - loss: 58.5547 - root_mean_squared_error: 7.6521 - val_loss: 74.5365 - val_root_mean_squared_error: 8.6335\n",
            "Epoch 197/200\n",
            "3/3 [==============================] - 0s 17ms/step - loss: 58.5608 - root_mean_squared_error: 7.6525 - val_loss: 74.6266 - val_root_mean_squared_error: 8.6387\n",
            "Epoch 198/200\n",
            "3/3 [==============================] - 0s 16ms/step - loss: 58.5719 - root_mean_squared_error: 7.6532 - val_loss: 74.6708 - val_root_mean_squared_error: 8.6412\n",
            "Epoch 199/200\n",
            "3/3 [==============================] - 0s 17ms/step - loss: 58.5664 - root_mean_squared_error: 7.6529 - val_loss: 74.6175 - val_root_mean_squared_error: 8.6381\n",
            "Epoch 200/200\n",
            "3/3 [==============================] - 0s 17ms/step - loss: 58.5635 - root_mean_squared_error: 7.6527 - val_loss: 74.7463 - val_root_mean_squared_error: 8.6456\n"
          ]
        }
      ]
    },
    {
      "cell_type": "code",
      "source": [
        "plot_metric(history, \"loss\")\n",
        "plot_metric(history, \"root_mean_squared_error\")"
      ],
      "metadata": {
        "colab": {
          "base_uri": "https://localhost:8080/",
          "height": 927
        },
        "id": "FbKQel7Spayo",
        "outputId": "50cf5b69-eef7-4d93-8480-aa3a85995610"
      },
      "execution_count": 8,
      "outputs": [
        {
          "output_type": "display_data",
          "data": {
            "text/plain": [
              "<Figure size 640x480 with 1 Axes>"
            ],
            "image/png": "[encoded data removed]"
          },
          "metadata": {}
        },
        {
          "output_type": "display_data",
          "data": {
            "text/plain": [
              "<Figure size 640x480 with 1 Axes>"
            ],
            "image/png": "[encoded data removed]"
          },
          "metadata": {}
        }
      ]
    },
    {
      "cell_type": "markdown",
      "source": [
        "## Ejercicio b\n",
        "\n",
        "Utilice el modelo conseguido en a) para predecir la radiación solar diaria de los datos usados en el entrenamiento.\n",
        "\n",
        "¿Cuál es el día que menor error se obtuvo en la predicción? ¿Y el día con máximo error?\n"
      ],
      "metadata": {
        "id": "RrJX6bKvn7io"
      }
    },
    {
      "cell_type": "code",
      "source": [
        "y_pred = modelo.predict(X)"
      ],
      "metadata": {
        "colab": {
          "base_uri": "https://localhost:8080/"
        },
        "id": "egD8I32ICKAi",
        "outputId": "d80d958d-e0f3-4bb3-ea87-86acd6e9a054"
      },
      "execution_count": 23,
      "outputs": [
        {
          "output_type": "stream",
          "name": "stdout",
          "text": [
            "3/3 [==============================] - 0s 5ms/step\n"
          ]
        }
      ]
    },
    {
      "cell_type": "code",
      "source": [
        "y_pred = pl.Series(y_pred.flatten())"
      ],
      "metadata": {
        "id": "lV6M5e_rCeZR"
      },
      "execution_count": 27,
      "outputs": []
    },
    {
      "cell_type": "code",
      "source": [
        "plt.hist((y_pred-df['Radiación_Global [MJ/m2]']))"
      ],
      "metadata": {
        "colab": {
          "base_uri": "https://localhost:8080/",
          "height": 519
        },
        "id": "mavV5_PeCmGv",
        "outputId": "0d1cc538-a3a9-4ff4-f1fe-4e9dc5000b4a"
      },
      "execution_count": 40,
      "outputs": [
        {
          "output_type": "execute_result",
          "data": {
            "text/plain": [
              "(array([ 3.,  8., 16., 12., 10.,  8.,  3.,  8.,  4.,  6.]),\n",
              " array([-15.42644157, -12.39644157,  -9.36644157,  -6.33644157,\n",
              "         -3.30644157,  -0.27644157,   2.75355843,   5.78355843,\n",
              "          8.81355843,  11.84355843,  14.87355843]),\n",
              " <BarContainer object of 10 artists>)"
            ]
          },
          "metadata": {},
          "execution_count": 40
        },
        {
          "output_type": "display_data",
          "data": {
            "text/plain": [
              "<Figure size 640x480 with 1 Axes>"
            ],
            "image/png": "[encoded data removed]"
          },
          "metadata": {}
        }
      ]
    },
    {
      "cell_type": "markdown",
      "source": [
        "## Ejercicio c\n",
        "\n",
        "Conseguido el modelo ¿Qué predice la red conseguida sobre los datos que están en el dataset Quimil_pred.csv?"
      ],
      "metadata": {
        "id": "2T-2NpwUn9O5"
      }
    },
    {
      "cell_type": "code",
      "source": [
        "df_test = pl.read_csv('Quimil_pred.csv',separator=';',encoding='latin1')"
      ],
      "metadata": {
        "id": "5epJgR7UnkYP"
      },
      "execution_count": 32,
      "outputs": []
    },
    {
      "cell_type": "code",
      "source": [
        "modelo.predict(df_test.to_numpy())"
      ],
      "metadata": {
        "colab": {
          "base_uri": "https://localhost:8080/"
        },
        "id": "VxVn-iqI7dcu",
        "outputId": "799aa75e-cd45-4248-bb1c-7dc94ce4b79c"
      },
      "execution_count": 33,
      "outputs": [
        {
          "output_type": "stream",
          "name": "stdout",
          "text": [
            "1/1 [==============================] - 0s 21ms/step\n"
          ]
        },
        {
          "output_type": "execute_result",
          "data": {
            "text/plain": [
              "array([[17.473557],\n",
              "       [17.473557],\n",
              "       [17.473557],\n",
              "       [17.473557],\n",
              "       [17.473557]], dtype=float32)"
            ]
          },
          "metadata": {},
          "execution_count": 33
        }
      ]
    }
  ]
}