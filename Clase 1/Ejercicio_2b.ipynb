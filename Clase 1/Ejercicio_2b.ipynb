{
  "nbformat": 4,
  "nbformat_minor": 0,
  "metadata": {
    "colab": {
      "provenance": [],
      "include_colab_link": true
    },
    "kernelspec": {
      "name": "python3",
      "display_name": "Python 3"
    }
  },
  "cells": [
    {
      "cell_type": "markdown",
      "metadata": {
        "id": "view-in-github",
        "colab_type": "text"
      },
      "source": [
        "<a href=\"https://colab.research.google.com/github/josesg998/redesn_2024/blob/main/Clase%201/Ejercicio_2b.ipynb\" target=\"_parent\"><img src=\"https://colab.research.google.com/assets/colab-badge.svg\" alt=\"Open In Colab\"/></a>"
      ]
    },
    {
      "cell_type": "code",
      "metadata": {
        "id": "rhnPbsgOHSm_"
      },
      "source": [
        "import csv\n",
        "import numpy as np\n",
        "import librosa\n",
        "import matplotlib.pyplot as plt\n",
        "import keras"
      ],
      "execution_count": 6,
      "outputs": []
    },
    {
      "cell_type": "code",
      "source": [
        "from google.colab import drive\n",
        "drive.mount('/content/drive')"
      ],
      "metadata": {
        "id": "cS-Z_V_6K9JZ",
        "outputId": "b026adf4-3924-4f9b-d859-06077df3e014",
        "colab": {
          "base_uri": "https://localhost:8080/"
        }
      },
      "execution_count": 3,
      "outputs": [
        {
          "output_type": "stream",
          "name": "stdout",
          "text": [
            "Mounted at /content/drive\n"
          ]
        }
      ]
    },
    {
      "cell_type": "code",
      "source": [
        "# Para descomprimir el archivo Neumonia.zip (Si se usa desde Colab)\n",
        "# Creará dos carpetas:\n",
        "#     \"test\"\n",
        "#     \"train\"\n",
        "# y dos archivos en el directorio donde se descomprima:\n",
        "#     \"test.csv\"\n",
        "#     \"train.csv\"\n",
        "\n",
        "!unzip \"/content/drive/MyDrive/Perros_y_gatos.zip\" -d \".\"\n",
        "drive.flush_and_unmount()"
      ],
      "metadata": {
        "id": "NaSera8dqmiB",
        "outputId": "99b10117-7b1a-4c01-cc06-020945bbe4c2",
        "colab": {
          "base_uri": "https://localhost:8080/"
        }
      },
      "execution_count": 4,
      "outputs": [
        {
          "output_type": "stream",
          "name": "stdout",
          "text": [
            "Archive:  /content/drive/MyDrive/Perros_y_gatos.zip\n",
            "   creating: ./test/\n",
            "  inflating: ./test.csv              \n",
            "   creating: ./test/cat/\n",
            "  inflating: ./test/cat/cat_110.wav  \n",
            "  inflating: ./test/cat/cat_112.wav  \n",
            "  inflating: ./test/cat/cat_115.wav  \n",
            "  inflating: ./test/cat/cat_126.wav  \n",
            "  inflating: ./test/cat/cat_129.wav  \n",
            "  inflating: ./test/cat/cat_130.wav  \n",
            "  inflating: ./test/cat/cat_133.wav  \n",
            "  inflating: ./test/cat/cat_135.wav  \n",
            "  inflating: ./test/cat/cat_137.wav  \n",
            "  inflating: ./test/cat/cat_14.wav   \n",
            "  inflating: ./test/cat/cat_143.wav  \n",
            "  inflating: ./test/cat/cat_144.wav  \n",
            "  inflating: ./test/cat/cat_148.wav  \n",
            "  inflating: ./test/cat/cat_152.wav  \n",
            "  inflating: ./test/cat/cat_158.wav  \n",
            "  inflating: ./test/cat/cat_17.wav   \n",
            "  inflating: ./test/cat/cat_20.wav   \n",
            "  inflating: ./test/cat/cat_24.wav   \n",
            "  inflating: ./test/cat/cat_28.wav   \n",
            "  inflating: ./test/cat/cat_29.wav   \n",
            "  inflating: ./test/cat/cat_3.wav    \n",
            "  inflating: ./test/cat/cat_36.wav   \n",
            "  inflating: ./test/cat/cat_42.wav   \n",
            "  inflating: ./test/cat/cat_55.wav   \n",
            "  inflating: ./test/cat/cat_56.wav   \n",
            "  inflating: ./test/cat/cat_57.wav   \n",
            "  inflating: ./test/cat/cat_58.wav   \n",
            "  inflating: ./test/cat/cat_59.wav   \n",
            "  inflating: ./test/cat/cat_61.wav   \n",
            "  inflating: ./test/cat/cat_66.wav   \n",
            "  inflating: ./test/cat/cat_67.wav   \n",
            "  inflating: ./test/cat/cat_75.wav   \n",
            "  inflating: ./test/cat/cat_76.wav   \n",
            "  inflating: ./test/cat/cat_79.wav   \n",
            "  inflating: ./test/cat/cat_82.wav   \n",
            "  inflating: ./test/cat/cat_85.wav   \n",
            "  inflating: ./test/cat/cat_86.wav   \n",
            "  inflating: ./test/cat/cat_88.wav   \n",
            "  inflating: ./test/cat/cat_90.wav   \n",
            "   creating: ./test/dog/\n",
            "  inflating: ./test/dog/dog_barking_112.wav  \n",
            "  inflating: ./test/dog/dog_barking_12.wav  \n",
            "  inflating: ./test/dog/dog_barking_15.wav  \n",
            "  inflating: ./test/dog/dog_barking_19.wav  \n",
            "  inflating: ./test/dog/dog_barking_24.wav  \n",
            "  inflating: ./test/dog/dog_barking_3.wav  \n",
            "  inflating: ./test/dog/dog_barking_34.wav  \n",
            "  inflating: ./test/dog/dog_barking_43.wav  \n",
            "  inflating: ./test/dog/dog_barking_44.wav  \n",
            "  inflating: ./test/dog/dog_barking_45.wav  \n",
            "  inflating: ./test/dog/dog_barking_46.wav  \n",
            "  inflating: ./test/dog/dog_barking_48.wav  \n",
            "  inflating: ./test/dog/dog_barking_49.wav  \n",
            "  inflating: ./test/dog/dog_barking_54.wav  \n",
            "  inflating: ./test/dog/dog_barking_59.wav  \n",
            "  inflating: ./test/dog/dog_barking_62.wav  \n",
            "  inflating: ./test/dog/dog_barking_64.wav  \n",
            "  inflating: ./test/dog/dog_barking_66.wav  \n",
            "  inflating: ./test/dog/dog_barking_7.wav  \n",
            "  inflating: ./test/dog/dog_barking_73.wav  \n",
            "  inflating: ./test/dog/dog_barking_78.wav  \n",
            "  inflating: ./test/dog/dog_barking_8.wav  \n",
            "  inflating: ./test/dog/dog_barking_82.wav  \n",
            "  inflating: ./test/dog/dog_barking_89.wav  \n",
            "  inflating: ./test/dog/dog_barking_9.wav  \n",
            "  inflating: ./test/dog/dog_barking_90.wav  \n",
            "  inflating: ./test/dog/dog_barking_91.wav  \n",
            "  inflating: ./test/dog/dog_barking_99.wav  \n",
            "   creating: ./train/\n",
            "  inflating: ./train.csv             \n",
            "   creating: ./train/cat/\n",
            "  inflating: ./train/cat/cat_1.wav   \n",
            "  inflating: ./train/cat/cat_10.wav  \n",
            "  inflating: ./train/cat/cat_100.wav  \n",
            "  inflating: ./train/cat/cat_101.wav  \n",
            "  inflating: ./train/cat/cat_102.wav  \n",
            "  inflating: ./train/cat/cat_103.wav  \n",
            "  inflating: ./train/cat/cat_105.wav  \n",
            "  inflating: ./train/cat/cat_106.wav  \n",
            "  inflating: ./train/cat/cat_107.wav  \n",
            "  inflating: ./train/cat/cat_108.wav  \n",
            "  inflating: ./train/cat/cat_109.wav  \n",
            "  inflating: ./train/cat/cat_11.wav  \n",
            "  inflating: ./train/cat/cat_113.wav  \n",
            "  inflating: ./train/cat/cat_114.wav  \n",
            "  inflating: ./train/cat/cat_116.wav  \n",
            "  inflating: ./train/cat/cat_117.wav  \n",
            "  inflating: ./train/cat/cat_118.wav  \n",
            "  inflating: ./train/cat/cat_119.wav  \n",
            "  inflating: ./train/cat/cat_12.wav  \n",
            "  inflating: ./train/cat/cat_120.wav  \n",
            "  inflating: ./train/cat/cat_121.wav  \n",
            "  inflating: ./train/cat/cat_122.wav  \n",
            "  inflating: ./train/cat/cat_123.wav  \n",
            "  inflating: ./train/cat/cat_124.wav  \n",
            "  inflating: ./train/cat/cat_125.wav  \n",
            "  inflating: ./train/cat/cat_127.wav  \n",
            "  inflating: ./train/cat/cat_128.wav  \n",
            "  inflating: ./train/cat/cat_13.wav  \n",
            "  inflating: ./train/cat/cat_131.wav  \n",
            "  inflating: ./train/cat/cat_132.wav  \n",
            "  inflating: ./train/cat/cat_134.wav  \n",
            "  inflating: ./train/cat/cat_136.wav  \n",
            "  inflating: ./train/cat/cat_138.wav  \n",
            "  inflating: ./train/cat/cat_139.wav  \n",
            "  inflating: ./train/cat/cat_140.wav  \n",
            "  inflating: ./train/cat/cat_141.wav  \n",
            "  inflating: ./train/cat/cat_142.wav  \n",
            "  inflating: ./train/cat/cat_146.wav  \n",
            "  inflating: ./train/cat/cat_147.wav  \n",
            "  inflating: ./train/cat/cat_149.wav  \n",
            "  inflating: ./train/cat/cat_15.wav  \n",
            "  inflating: ./train/cat/cat_150.wav  \n",
            "  inflating: ./train/cat/cat_151.wav  \n",
            "  inflating: ./train/cat/cat_153.wav  \n",
            "  inflating: ./train/cat/cat_154.wav  \n",
            "  inflating: ./train/cat/cat_155.wav  \n",
            "  inflating: ./train/cat/cat_156.wav  \n",
            "  inflating: ./train/cat/cat_157.wav  \n",
            "  inflating: ./train/cat/cat_159.wav  \n",
            "  inflating: ./train/cat/cat_16.wav  \n",
            "  inflating: ./train/cat/cat_160.wav  \n",
            "  inflating: ./train/cat/cat_161.wav  \n",
            "  inflating: ./train/cat/cat_162.wav  \n",
            "  inflating: ./train/cat/cat_163.wav  \n",
            "  inflating: ./train/cat/cat_164.wav  \n",
            "  inflating: ./train/cat/cat_165.wav  \n",
            "  inflating: ./train/cat/cat_166.wav  \n",
            "  inflating: ./train/cat/cat_167.wav  \n",
            "  inflating: ./train/cat/cat_18.wav  \n",
            "  inflating: ./train/cat/cat_19.wav  \n",
            "  inflating: ./train/cat/cat_2.wav   \n",
            "  inflating: ./train/cat/cat_21.wav  \n",
            "  inflating: ./train/cat/cat_22.wav  \n",
            "  inflating: ./train/cat/cat_23.wav  \n",
            "  inflating: ./train/cat/cat_25.wav  \n",
            "  inflating: ./train/cat/cat_26.wav  \n",
            "  inflating: ./train/cat/cat_27.wav  \n",
            "  inflating: ./train/cat/cat_30.wav  \n",
            "  inflating: ./train/cat/cat_31.wav  \n",
            "  inflating: ./train/cat/cat_32.wav  \n",
            "  inflating: ./train/cat/cat_33.wav  \n",
            "  inflating: ./train/cat/cat_34.wav  \n",
            "  inflating: ./train/cat/cat_35.wav  \n",
            "  inflating: ./train/cat/cat_37.wav  \n",
            "  inflating: ./train/cat/cat_38.wav  \n",
            "  inflating: ./train/cat/cat_39.wav  \n",
            "  inflating: ./train/cat/cat_4.wav   \n",
            "  inflating: ./train/cat/cat_40.wav  \n",
            "  inflating: ./train/cat/cat_41.wav  \n",
            "  inflating: ./train/cat/cat_43.wav  \n",
            "  inflating: ./train/cat/cat_44.wav  \n",
            "  inflating: ./train/cat/cat_45.wav  \n",
            "  inflating: ./train/cat/cat_46.wav  \n",
            "  inflating: ./train/cat/cat_47.wav  \n",
            "  inflating: ./train/cat/cat_48.wav  \n",
            "  inflating: ./train/cat/cat_49.wav  \n",
            "  inflating: ./train/cat/cat_5.wav   \n",
            "  inflating: ./train/cat/cat_50.wav  \n",
            "  inflating: ./train/cat/cat_51.wav  \n",
            "  inflating: ./train/cat/cat_52.wav  \n",
            "  inflating: ./train/cat/cat_53.wav  \n",
            "  inflating: ./train/cat/cat_54.wav  \n",
            "  inflating: ./train/cat/cat_6.wav   \n",
            "  inflating: ./train/cat/cat_60.wav  \n",
            "  inflating: ./train/cat/cat_62.wav  \n",
            "  inflating: ./train/cat/cat_63.wav  \n",
            "  inflating: ./train/cat/cat_64.wav  \n",
            "  inflating: ./train/cat/cat_65.wav  \n",
            "  inflating: ./train/cat/cat_68.wav  \n",
            "  inflating: ./train/cat/cat_69.wav  \n",
            "  inflating: ./train/cat/cat_7.wav   \n",
            "  inflating: ./train/cat/cat_70.wav  \n",
            "  inflating: ./train/cat/cat_71.wav  \n",
            "  inflating: ./train/cat/cat_72.wav  \n",
            "  inflating: ./train/cat/cat_73.wav  \n",
            "  inflating: ./train/cat/cat_74.wav  \n",
            "  inflating: ./train/cat/cat_77.wav  \n",
            "  inflating: ./train/cat/cat_78.wav  \n",
            "  inflating: ./train/cat/cat_8.wav   \n",
            "  inflating: ./train/cat/cat_80.wav  \n",
            "  inflating: ./train/cat/cat_81.wav  \n",
            "  inflating: ./train/cat/cat_83.wav  \n",
            "  inflating: ./train/cat/cat_84.wav  \n",
            "  inflating: ./train/cat/cat_87.wav  \n",
            "  inflating: ./train/cat/cat_89.wav  \n",
            "  inflating: ./train/cat/cat_9.wav   \n",
            "  inflating: ./train/cat/cat_91.wav  \n",
            "  inflating: ./train/cat/cat_92.wav  \n",
            "  inflating: ./train/cat/cat_93.wav  \n",
            "  inflating: ./train/cat/cat_94.wav  \n",
            "  inflating: ./train/cat/cat_95.wav  \n",
            "  inflating: ./train/cat/cat_96.wav  \n",
            "  inflating: ./train/cat/cat_97.wav  \n",
            "  inflating: ./train/cat/cat_98.wav  \n",
            "  inflating: ./train/cat/cat_99.wav  \n",
            "   creating: ./train/dog/\n",
            "  inflating: ./train/dog/dog_barking_0.wav  \n",
            "  inflating: ./train/dog/dog_barking_1.wav  \n",
            "  inflating: ./train/dog/dog_barking_10.wav  \n",
            "  inflating: ./train/dog/dog_barking_100.wav  \n",
            "  inflating: ./train/dog/dog_barking_101.wav  \n",
            "  inflating: ./train/dog/dog_barking_102.wav  \n",
            "  inflating: ./train/dog/dog_barking_103.wav  \n",
            "  inflating: ./train/dog/dog_barking_104.wav  \n",
            "  inflating: ./train/dog/dog_barking_105.wav  \n",
            "  inflating: ./train/dog/dog_barking_106.wav  \n",
            "  inflating: ./train/dog/dog_barking_107.wav  \n",
            "  inflating: ./train/dog/dog_barking_108.wav  \n",
            "  inflating: ./train/dog/dog_barking_109.wav  \n",
            "  inflating: ./train/dog/dog_barking_11.wav  \n",
            "  inflating: ./train/dog/dog_barking_110.wav  \n",
            "  inflating: ./train/dog/dog_barking_111.wav  \n",
            "  inflating: ./train/dog/dog_barking_13.wav  \n",
            "  inflating: ./train/dog/dog_barking_14.wav  \n",
            "  inflating: ./train/dog/dog_barking_16.wav  \n",
            "  inflating: ./train/dog/dog_barking_17.wav  \n",
            "  inflating: ./train/dog/dog_barking_18.wav  \n",
            "  inflating: ./train/dog/dog_barking_2.wav  \n",
            "  inflating: ./train/dog/dog_barking_20.wav  \n",
            "  inflating: ./train/dog/dog_barking_21.wav  \n",
            "  inflating: ./train/dog/dog_barking_22.wav  \n",
            "  inflating: ./train/dog/dog_barking_23.wav  \n",
            "  inflating: ./train/dog/dog_barking_25.wav  \n",
            "  inflating: ./train/dog/dog_barking_26.wav  \n",
            "  inflating: ./train/dog/dog_barking_27.wav  \n",
            "  inflating: ./train/dog/dog_barking_28.wav  \n",
            "  inflating: ./train/dog/dog_barking_29.wav  \n",
            "  inflating: ./train/dog/dog_barking_30.wav  \n",
            "  inflating: ./train/dog/dog_barking_31.wav  \n",
            "  inflating: ./train/dog/dog_barking_32.wav  \n",
            "  inflating: ./train/dog/dog_barking_33.wav  \n",
            "  inflating: ./train/dog/dog_barking_35.wav  \n",
            "  inflating: ./train/dog/dog_barking_36.wav  \n",
            "  inflating: ./train/dog/dog_barking_37.wav  \n",
            "  inflating: ./train/dog/dog_barking_38.wav  \n",
            "  inflating: ./train/dog/dog_barking_39.wav  \n",
            "  inflating: ./train/dog/dog_barking_4.wav  \n",
            "  inflating: ./train/dog/dog_barking_40.wav  \n",
            "  inflating: ./train/dog/dog_barking_41.wav  \n",
            "  inflating: ./train/dog/dog_barking_42.wav  \n",
            "  inflating: ./train/dog/dog_barking_47.wav  \n",
            "  inflating: ./train/dog/dog_barking_5.wav  \n",
            "  inflating: ./train/dog/dog_barking_50.wav  \n",
            "  inflating: ./train/dog/dog_barking_51.wav  \n",
            "  inflating: ./train/dog/dog_barking_52.wav  \n",
            "  inflating: ./train/dog/dog_barking_53.wav  \n",
            "  inflating: ./train/dog/dog_barking_55.wav  \n",
            "  inflating: ./train/dog/dog_barking_56.wav  \n",
            "  inflating: ./train/dog/dog_barking_57.wav  \n",
            "  inflating: ./train/dog/dog_barking_58.wav  \n",
            "  inflating: ./train/dog/dog_barking_6.wav  \n",
            "  inflating: ./train/dog/dog_barking_60.wav  \n",
            "  inflating: ./train/dog/dog_barking_61.wav  \n",
            "  inflating: ./train/dog/dog_barking_63.wav  \n",
            "  inflating: ./train/dog/dog_barking_65.wav  \n",
            "  inflating: ./train/dog/dog_barking_67.wav  \n",
            "  inflating: ./train/dog/dog_barking_68.wav  \n",
            "  inflating: ./train/dog/dog_barking_69.wav  \n",
            "  inflating: ./train/dog/dog_barking_70.wav  \n",
            "  inflating: ./train/dog/dog_barking_71.wav  \n",
            "  inflating: ./train/dog/dog_barking_72.wav  \n",
            "  inflating: ./train/dog/dog_barking_74.wav  \n",
            "  inflating: ./train/dog/dog_barking_75.wav  \n",
            "  inflating: ./train/dog/dog_barking_76.wav  \n",
            "  inflating: ./train/dog/dog_barking_77.wav  \n",
            "  inflating: ./train/dog/dog_barking_79.wav  \n",
            "  inflating: ./train/dog/dog_barking_80.wav  \n",
            "  inflating: ./train/dog/dog_barking_81.wav  \n",
            "  inflating: ./train/dog/dog_barking_83.wav  \n",
            "  inflating: ./train/dog/dog_barking_84.wav  \n",
            "  inflating: ./train/dog/dog_barking_85.wav  \n",
            "  inflating: ./train/dog/dog_barking_86.wav  \n",
            "  inflating: ./train/dog/dog_barking_87.wav  \n",
            "  inflating: ./train/dog/dog_barking_88.wav  \n",
            "  inflating: ./train/dog/dog_barking_92.wav  \n",
            "  inflating: ./train/dog/dog_barking_93.wav  \n",
            "  inflating: ./train/dog/dog_barking_94.wav  \n",
            "  inflating: ./train/dog/dog_barking_95.wav  \n",
            "  inflating: ./train/dog/dog_barking_96.wav  \n",
            "  inflating: ./train/dog/dog_barking_97.wav  \n",
            "  inflating: ./train/dog/dog_barking_98.wav  \n"
          ]
        }
      ]
    },
    {
      "cell_type": "code",
      "metadata": {
        "id": "WqHvEnq9HlEY",
        "outputId": "6f925210-af9d-489a-adf5-50353c7d2cb2",
        "colab": {
          "base_uri": "https://localhost:8080/",
          "height": 421
        }
      },
      "source": [
        "# Lectura y visualización de un archivo de audio\n",
        "\n",
        "sfile = \"train/dog/dog_barking_0.wav\"\n",
        "\n",
        "audio_data, sample_rate = librosa.load(sfile)\n",
        "\n",
        "print(\"Longitud del vector de muestras del archivo: \" + str(len(audio_data)) + \"\\n\\n\")\n",
        "\n",
        "fig = plt.figure(figsize=(12, 4))\n",
        "plt.plot(audio_data)\n",
        "plt.show()"
      ],
      "execution_count": 7,
      "outputs": [
        {
          "output_type": "stream",
          "name": "stdout",
          "text": [
            "Longitud del vector de muestras del archivo: 379265\n",
            "\n",
            "\n"
          ]
        },
        {
          "output_type": "display_data",
          "data": {
            "text/plain": [
              "<Figure size 1200x400 with 1 Axes>"
            ],
            "image/png": "[encoded data removed]"
          },
          "metadata": {}
        }
      ]
    },
    {
      "cell_type": "code",
      "metadata": {
        "id": "wd5knD01J-bx"
      },
      "source": [
        "# Lectura del dataset completo de train\n",
        "trainfile = csv.reader(open(\"train.csv\"), delimiter='\\t')\n",
        "trainrows = [[c for c in row] for row in trainfile]\n",
        "row_count_train = len(trainrows)\n",
        "T_train = [int(c[0]) for c in trainrows]\n",
        "wavfiles = np.array(trainrows)[:, 1]"
      ],
      "execution_count": 8,
      "outputs": []
    },
    {
      "cell_type": "markdown",
      "source": [
        "#Prep 1 <BR>\n",
        "Creación del dataset dividiendo cada archivo de audio en distintas \"porciones\" de igual longitud."
      ],
      "metadata": {
        "id": "_sI0kaHiraPy"
      }
    },
    {
      "cell_type": "code",
      "metadata": {
        "id": "OiWGzVSkKSr_"
      },
      "source": [
        "longitud_porcion = 10000\n",
        "\n",
        "P = []  ; T = []\n",
        "for i in range(len(wavfiles)):\n",
        "    audio_data, sample_rate = librosa.load(wavfiles[i])\n",
        "\n",
        "    longitud = len(audio_data)\n",
        "    comienzo = 0\n",
        "    while (comienzo+longitud_porcion) < longitud:\n",
        "      data = audio_data[comienzo:(comienzo+longitud_porcion)]\n",
        "      comienzo+= longitud_porcion\n",
        "\n",
        "      P.append(data)\n",
        "      T.append(T_train[i])\n",
        "\n",
        "P = np.array(P)\n",
        "T = np.array(T)"
      ],
      "execution_count": 9,
      "outputs": []
    },
    {
      "cell_type": "markdown",
      "source": [
        "#Prep 2<BR>\n",
        "Creación del dataset utilizando características espectrales de las señales de audio.\n"
      ],
      "metadata": {
        "id": "ROe9-2mhsJvC"
      }
    },
    {
      "cell_type": "code",
      "metadata": {
        "id": "yKz-v7mwV2yK"
      },
      "source": [
        "# Codificación a utilizar (puede probar con una de ellas, un subconjunto o todas a la vez)\n",
        "\n",
        "codificacion = []\n",
        "codificacion.append(\"mfcc\")    # Cepstral coefficients\n",
        "#codificacion.append(\"stft\")    # Short-Time Fourier Transform and Chroma Features\n",
        "#codificacion.append(\"mels\")    # Melspectrogram\n",
        "#codificacion.append(\"cont\")    # Spectral contrast\n",
        "#codificacion.append(\"tonn\")    # Tonnetz\n",
        "#codificacion.append(\"cent\")    # Spectral centroids\n",
        "#codificacion.append(\"band\")    # Spectral bandwidth\n",
        "#codificacion.append(\"roll\")    # Spectral rolloff\n",
        "#codificacion.append(\"zcrt\")    # Zero crossing rate\n",
        "\n",
        "P = None ; T = []\n",
        "for i in range(len(wavfiles)):\n",
        "    audio_data, sample_rate = librosa.load(wavfiles[i])\n",
        "    stft = np.abs(librosa.stft(audio_data))\n",
        "\n",
        "    features = None\n",
        "\n",
        "    if \"mfcc\" in codificacion:\n",
        "      a = librosa.feature.mfcc(y=audio_data, sr=sample_rate, n_mfcc=40).T\n",
        "      if features is None:\n",
        "        features = a\n",
        "      else:\n",
        "        features = np.concatenate((features, a), axis=1)\n",
        "\n",
        "    if \"stft\" in codificacion:\n",
        "      a = librosa.feature.chroma_stft(S=stft, sr=sample_rate).T\n",
        "      if features is None:\n",
        "        features = a\n",
        "      else:\n",
        "        features = np.concatenate((features, a), axis=1)\n",
        "\n",
        "    if \"mels\" in codificacion:\n",
        "      a = librosa.feature.melspectrogram(audio_data, sr=sample_rate).T\n",
        "      if features is None:\n",
        "        features = a\n",
        "      else:\n",
        "        features = np.concatenate((features, a), axis=1)\n",
        "\n",
        "    if \"cont\" in codificacion:\n",
        "      a = librosa.feature.spectral_contrast(S=stft, sr=sample_rate).T\n",
        "      if features is None:\n",
        "        features = a\n",
        "      else:\n",
        "        features = np.concatenate((features, a), axis=1)\n",
        "\n",
        "    if \"tonn\" in codificacion:\n",
        "      a = librosa.feature.tonnetz(y=librosa.effects.harmonic(audio_data, ), sr=sample_rate).T\n",
        "      if features is None:\n",
        "        features = a\n",
        "      else:\n",
        "        features = np.concatenate((features, a), axis=1)\n",
        "\n",
        "    if \"cent\" in codificacion:\n",
        "      a = librosa.feature.spectral_centroid(y=audio_data, sr=sample_rate).T\n",
        "      if features is None:\n",
        "        features = a\n",
        "      else:\n",
        "        features = np.concatenate((features, a), axis=1)\n",
        "\n",
        "    if \"band\" in codificacion:\n",
        "      a = librosa.feature.spectral_bandwidth(y=audio_data, sr=sample_rate).T\n",
        "      if features is None:\n",
        "        features = a\n",
        "      else:\n",
        "        features = np.concatenate((features, a), axis=1)\n",
        "\n",
        "    if \"roll\" in codificacion:\n",
        "      a = librosa.feature.spectral_rolloff(y=audio_data, sr=sample_rate).T\n",
        "      if features is None:\n",
        "        features = a\n",
        "      else:\n",
        "        features = np.concatenate((features, a), axis=1)\n",
        "\n",
        "    if \"zcrt\" in codificacion:\n",
        "      a = librosa.feature.zero_crossing_rate(audio_data).T\n",
        "      if features is None:\n",
        "        features = a\n",
        "      else:\n",
        "        features = np.concatenate((features, a), axis=1)\n",
        "\n",
        "    for j in range(features.shape[0]):\n",
        "      if P is None:\n",
        "        P = features\n",
        "      else:\n",
        "        P = np.concatenate( (P, features[j,:][np.newaxis]) , axis = 0)\n",
        "      T.append(T_train[i])\n",
        "\n",
        "T = np.array(T)"
      ],
      "execution_count": 10,
      "outputs": []
    },
    {
      "cell_type": "markdown",
      "source": [
        "#Prep 3<BR>\n",
        "Creación del dataset utilizando el promedio de las características espectrales de las señales de audio.\n",
        "Simplifica la tarea de testing, ya que se genera un único vector de features por archivo."
      ],
      "metadata": {
        "id": "Wf_EaFQOwCYc"
      }
    },
    {
      "cell_type": "code",
      "metadata": {
        "id": "FTthZEfuWDja",
        "outputId": "15efca65-4a31-4116-b3e7-1056198c45c7",
        "colab": {
          "base_uri": "https://localhost:8080/"
        }
      },
      "source": [
        "P = [] ; T = []\n",
        "for i in range(len(wavfiles)):\n",
        "    audio_data, sample_rate = librosa.load(wavfiles[i])\n",
        "    stft = np.abs(librosa.stft(audio_data))\n",
        "\n",
        "    features = []\n",
        "\n",
        "    if \"mfcc\" in codificacion:\n",
        "      a = librosa.feature.mfcc(y=audio_data, sr=sample_rate, n_mfcc=40).T\n",
        "      if features is None:\n",
        "        features = np.mean(a, axis=0)\n",
        "      else:\n",
        "        features = np.concatenate( (features, np.mean(a, axis=0)) )\n",
        "\n",
        "    if \"stft\" in codificacion:\n",
        "      a = librosa.feature.chroma_stft(S=stft, sr=sample_rate).T\n",
        "      if features is None:\n",
        "        features = np.mean(a, axis=0)\n",
        "      else:\n",
        "        features = np.concatenate( (features, np.mean(a, axis=0)) )\n",
        "\n",
        "    if \"mels\" in codificacion:\n",
        "      a = librosa.feature.melspectrogram(audio_data, sr=sample_rate).T\n",
        "      if features is None:\n",
        "        features = np.mean(a, axis=0)\n",
        "      else:\n",
        "        features = np.concatenate( (features, np.mean(a, axis=0)) )\n",
        "\n",
        "    if \"cont\" in codificacion:\n",
        "      a = librosa.feature.spectral_contrast(S=stft, sr=sample_rate).T\n",
        "      if features is None:\n",
        "        features = np.mean(a, axis=0)\n",
        "      else:\n",
        "        features = np.concatenate( (features, np.mean(a, axis=0)) )\n",
        "\n",
        "    if \"tonn\" in codificacion:\n",
        "      a = librosa.feature.tonnetz(y=librosa.effects.harmonic(audio_data, ), sr=sample_rate).T\n",
        "      if features is None:\n",
        "        features = np.mean(a, axis=0)\n",
        "      else:\n",
        "        features = np.concatenate( (features, np.mean(a, axis=0)) )\n",
        "\n",
        "    if \"cent\" in codificacion:\n",
        "      a = librosa.feature.spectral_centroid(y=audio_data, sr=sample_rate).T\n",
        "      if features is None:\n",
        "        features = np.mean(a, axis=0)\n",
        "      else:\n",
        "        features = np.concatenate( (features, np.mean(a, axis=0)) )\n",
        "\n",
        "    if \"band\" in codificacion:\n",
        "      a = librosa.feature.spectral_bandwidth(y=audio_data, sr=sample_rate).T\n",
        "      if features is None:\n",
        "        features = np.mean(a, axis=0)\n",
        "      else:\n",
        "        features = np.concatenate( (features, np.mean(a, axis=0)) )\n",
        "\n",
        "    if \"roll\" in codificacion:\n",
        "      a = librosa.feature.spectral_rolloff(y=audio_data, sr=sample_rate).T\n",
        "      if features is None:\n",
        "        features = np.mean(a, axis=0)\n",
        "      else:\n",
        "        features = np.concatenate( (features, np.mean(a, axis=0)) )\n",
        "\n",
        "    if \"zcrt\" in codificacion:\n",
        "      a = librosa.feature.zero_crossing_rate(audio_data).T\n",
        "      if features is None:\n",
        "        features = np.mean(a, axis=0)\n",
        "      else:\n",
        "        features = np.concatenate( (features, np.mean(a, axis=0)) )\n",
        "\n",
        "    P.append(features)\n",
        "    T.append(T_train[i])\n",
        "\n",
        "P = np.array(P)\n",
        "T = np.array(T)\n",
        "print(P.shape)"
      ],
      "execution_count": 11,
      "outputs": [
        {
          "output_type": "stream",
          "name": "stdout",
          "text": [
            "(210, 40)\n"
          ]
        }
      ]
    },
    {
      "cell_type": "markdown",
      "source": [
        "#Entrenamiento del modelo\n",
        "Solo usar una preparación de los datos (Prep1 o Prep2 o Prep3)"
      ],
      "metadata": {
        "id": "uP6kvhdY6iQE"
      }
    },
    {
      "cell_type": "code",
      "source": [
        "# Mezclar las muestras\n",
        "inds = np.arange(len(T))\n",
        "inds = np.random.permutation(inds)\n",
        "P = P[inds]\n",
        "T = T[inds]\n",
        "print(P.shape)\n",
        "print(T.shape)"
      ],
      "metadata": {
        "id": "Zt4-Kdeq_G_5",
        "outputId": "2619d4d9-d5c6-4557-e612-56f9b9a054fb",
        "colab": {
          "base_uri": "https://localhost:8080/"
        }
      },
      "execution_count": 12,
      "outputs": [
        {
          "output_type": "stream",
          "name": "stdout",
          "text": [
            "(210, 40)\n",
            "(210,)\n"
          ]
        }
      ]
    },
    {
      "cell_type": "code",
      "source": [
        "d_in = P.shape[1]\n",
        "d_out = 1 # Clasificación binaria\n",
        "\n",
        "modelo = keras.Sequential([\n",
        "    keras.layers.Dense(5, input_shape=(d_in,), activation= 'tanh'),\n",
        "    keras.layers.Dense(d_out, activation=\"sigmoid\")\n",
        "])\n",
        "\n",
        "modelo.compile(\n",
        "  optimizer = keras.optimizers.SGD(learning_rate=0.01),\n",
        "  loss = 'binary_crossentropy', metrics = ['accuracy']\n",
        ")\n",
        "\n",
        "modelo.summary()"
      ],
      "metadata": {
        "id": "z4cWIRGl9xhi",
        "outputId": "002bc344-b859-4e95-b0a9-79d257d5421f",
        "colab": {
          "base_uri": "https://localhost:8080/"
        }
      },
      "execution_count": 13,
      "outputs": [
        {
          "output_type": "stream",
          "name": "stdout",
          "text": [
            "Model: \"sequential\"\n",
            "_________________________________________________________________\n",
            " Layer (type)                Output Shape              Param #   \n",
            "=================================================================\n",
            " dense (Dense)               (None, 5)                 205       \n",
            "                                                                 \n",
            " dense_1 (Dense)             (None, 1)                 6         \n",
            "                                                                 \n",
            "=================================================================\n",
            "Total params: 211 (844.00 Byte)\n",
            "Trainable params: 211 (844.00 Byte)\n",
            "Non-trainable params: 0 (0.00 Byte)\n",
            "_________________________________________________________________\n"
          ]
        }
      ]
    },
    {
      "cell_type": "code",
      "source": [
        "history = modelo.fit(P, T, epochs=3, batch_size=16, verbose=True, validation_split=0.2)"
      ],
      "metadata": {
        "id": "8KUvTeke-iSa",
        "outputId": "47dcca03-3cbe-489f-b567-9ac1fd851134",
        "colab": {
          "base_uri": "https://localhost:8080/"
        }
      },
      "execution_count": 14,
      "outputs": [
        {
          "output_type": "stream",
          "name": "stdout",
          "text": [
            "Epoch 1/3\n",
            "11/11 [==============================] - 1s 27ms/step - loss: 0.7929 - accuracy: 0.5595 - val_loss: 0.6006 - val_accuracy: 0.6190\n",
            "Epoch 2/3\n",
            "11/11 [==============================] - 0s 6ms/step - loss: 0.6809 - accuracy: 0.5833 - val_loss: 0.6818 - val_accuracy: 0.5952\n",
            "Epoch 3/3\n",
            "11/11 [==============================] - 0s 7ms/step - loss: 0.6914 - accuracy: 0.5833 - val_loss: 0.6811 - val_accuracy: 0.5952\n"
          ]
        }
      ]
    }
  ]
}