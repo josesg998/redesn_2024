{
  "nbformat": 4,
  "nbformat_minor": 0,
  "metadata": {
    "colab": {
      "provenance": []
    },
    "kernelspec": {
      "name": "python3",
      "display_name": "Python 3"
    },
    "language_info": {
      "name": "python"
    }
  },
  "cells": [
    {
      "cell_type": "code",
      "execution_count": 12,
      "metadata": {
        "id": "X4wqJfwUog-6"
      },
      "outputs": [],
      "source": [
        "import numpy as np\n",
        "import keras\n",
        "from keras.utils import get_file\n",
        "import matplotlib.pyplot as plt\n",
        "import matplotlib.image as mpimg\n",
        "from tensorflow.keras.applications import vgg19\n",
        "from keras.utils import plot_model\n",
        "from keras import Model\n",
        "import tensorflow as tf\n",
        "from keras.optimizers import SGD\n",
        "from PIL import Image"
      ]
    },
    {
      "cell_type": "code",
      "source": [
        "style_image_path = \"./style.jpg\"\n",
        "content_image_path = \"./content.jpg\""
      ],
      "metadata": {
        "id": "TJw_FupjpAR9"
      },
      "execution_count": 4,
      "outputs": []
    },
    {
      "cell_type": "code",
      "source": [
        "a = plt.imread(content_image_path)\n",
        "b = plt.imread(style_image_path)\n",
        "f, axarr = plt.subplots(1,2, figsize=(15,15))\n",
        "axarr[0].imshow(a)\n",
        "axarr[1].imshow(b)\n",
        "plt.show()"
      ],
      "metadata": {
        "id": "NYOp_oUQpPX3"
      },
      "execution_count": null,
      "outputs": []
    },
    {
      "cell_type": "code",
      "source": [
        "# Funciones útiles\n",
        "\n",
        "def gram_matrix(x):\n",
        "    x = tf.transpose(x, (2, 0, 1))\n",
        "    features = tf.reshape(x, (tf.shape(x)[0], -1))\n",
        "    gram = tf.matmul(features, tf.transpose(features))\n",
        "    return gram\n",
        "\n",
        "def content_cost(content, combination):\n",
        "    return tf.reduce_sum(tf.square(combination - content))\n",
        "\n",
        "def style_cost(style, combination):\n",
        "    S = gram_matrix(style)\n",
        "    C = gram_matrix(combination)\n",
        "    channels = 3\n",
        "    size = img_nrows * img_ncols\n",
        "    return tf.reduce_sum(tf.square(S - C)) / (4.0 * (channels ** 2) * (size ** 2))\n",
        "\n",
        "def loss_function(combination_image, content_image, style_reference_image, content_layer, style_layers, content_weight, style_weight):\n",
        "\n",
        "    # 1. Combinar todas las imágenes en un mismo tensor.\n",
        "    input_tensor = tf.concat(\n",
        "        [content_image, style_reference_image, combination_image], axis=0\n",
        "    )\n",
        "\n",
        "    # 2. Obtener los valores en todas las capas para las tres imágenes\n",
        "    features = feature_extractor(input_tensor)\n",
        "\n",
        "    #3. Inicializar el coste\n",
        "    loss = tf.zeros(shape=())\n",
        "\n",
        "    # 4. Extraer las capas de contenido + coste de contenido\n",
        "    layer_features = features[content_layer]\n",
        "    content_image_features = layer_features[0, :, :, :]\n",
        "    combination_features = layer_features[2, :, :, :]\n",
        "\n",
        "    loss = loss + content_weight * content_cost(content_image_features, combination_features\n",
        "    )\n",
        "    # 5. Extraer las capas de estilo + coste de estilo\n",
        "    for layer_name in style_layers:\n",
        "        layer_features = features[layer_name]\n",
        "        style_reference_features = layer_features[1, :, :, :]\n",
        "        combination_features = layer_features[2, :, :, :]\n",
        "        sl = style_cost(style_reference_features, combination_features)\n",
        "        loss += (style_weight / len(style_layers)) * sl\n",
        "\n",
        "    return loss\n",
        "\n",
        "def compute_loss_and_grads(combination_image, base_image, style_reference_image, content_layer, style_layers, content_weight, style_weight):\n",
        "    with tf.GradientTape() as tape:\n",
        "        loss = loss_function(combination_image, base_image, style_reference_image, content_layer, style_layers, content_weight, style_weight)\n",
        "    grads = tape.gradient(loss, combination_image)\n",
        "    return loss, grads\n",
        "\n",
        "def preprocess_image(image_path):\n",
        "    # Util function to open, resize and format pictures into appropriate tensors\n",
        "    img = keras.preprocessing.image.load_img(\n",
        "        image_path, target_size=(img_nrows, img_ncols)\n",
        "    )\n",
        "    img = keras.preprocessing.image.img_to_array(img)\n",
        "    img = np.expand_dims(img, axis=0)\n",
        "    img = vgg19.preprocess_input(img)\n",
        "    return tf.convert_to_tensor(img)\n",
        "\n",
        "def deprocess_image(x):\n",
        "\n",
        "    # Convertimos el tensor en Array\n",
        "    x = x.reshape((img_nrows, img_ncols, 3))\n",
        "\n",
        "    # Hacemos que no tengan promedio 0\n",
        "    x[:, :, 0] += 103.939\n",
        "    x[:, :, 1] += 116.779\n",
        "    x[:, :, 2] += 123.68\n",
        "\n",
        "    # Convertimos de BGR a RGB.\n",
        "    x = x[:, :, ::-1]\n",
        "\n",
        "    # Nos aseguramos que están entre 0 y 255\n",
        "    x = np.clip(x, 0, 255).astype(\"uint8\")\n",
        "\n",
        "    return x"
      ],
      "metadata": {
        "id": "bEhEzQgwpVLe"
      },
      "execution_count": 9,
      "outputs": []
    },
    {
      "cell_type": "code",
      "source": [
        "# Usamos el modelo preentrenado VGG19\n",
        "\n",
        "model = vgg19.VGG19(weights=\"imagenet\", include_top=False)\n",
        "\n",
        "model.summary()\n",
        "\n",
        "outputs_dict= dict([(layer.name, layer.output) for layer in model.layers])\n",
        "\n",
        "# Armamos un modelo donde podamos acceder a todas las salidas de todas las capas\n",
        "feature_extractor = Model(inputs=model.inputs, outputs=outputs_dict)\n",
        "\n",
        "# Las capas a usar para el cálculo del error de estilo\n",
        "capas_estilo = [\n",
        "    \"block1_conv1\",\n",
        "    \"block2_conv1\",\n",
        "    \"block3_conv1\",\n",
        "    \"block4_conv1\",\n",
        "    \"block5_conv1\",\n",
        "]\n",
        "\n",
        "# La capa a usar para el cálculo del error de contenido\n",
        "capas_contenido = \"block5_conv2\"\n",
        "\n",
        "content_weight = 2.5e-8\n",
        "style_weight = 1e-6"
      ],
      "metadata": {
        "id": "pYjKTkqrpopO"
      },
      "execution_count": null,
      "outputs": []
    },
    {
      "cell_type": "code",
      "source": [
        "# Preparamos la imagen\n",
        "\n",
        "width, height = keras.preprocessing.image.load_img(content_image_path).size\n",
        "img_nrows = 400\n",
        "img_ncols = int(width * img_nrows / height)\n",
        "\n",
        "optimizer = SGD(\n",
        "    keras.optimizers.schedules.ExponentialDecay(\n",
        "        initial_learning_rate=100.0, decay_steps=100, decay_rate=0.96\n",
        "    )\n",
        ")\n",
        "\n",
        "content_image = preprocess_image(content_image_path)\n",
        "style_reference_image = preprocess_image(style_image_path)\n",
        "\n",
        "# Partimos de la imagen de contenido, pero podría ser una imagen al azar\n",
        "combination_image = tf.Variable(preprocess_image(content_image_path))"
      ],
      "metadata": {
        "id": "qxwOwqK_txuw"
      },
      "execution_count": 11,
      "outputs": []
    },
    {
      "cell_type": "code",
      "source": [
        "# \"Entrenamos la imagen resultante\"\n",
        "\n",
        "iterations = 4000\n",
        "\n",
        "for i in range(0, iterations):\n",
        "    loss, grads = compute_loss_and_grads(\n",
        "        combination_image, content_image, style_reference_image,\n",
        "        capas_contenido, capas_estilo, content_weight, style_weight\n",
        "    )\n",
        "    print(\"Iteration %d: loss=%.2f\" % (i+1, loss))\n",
        "\n",
        "    optimizer.apply_gradients([(grads, combination_image)])\n",
        "\n",
        "    if (i+1) % 10 == 0:\n",
        "        img = deprocess_image(combination_image.numpy())\n",
        "        im = Image.fromarray(img[..., ::-1])\n",
        "        display(im)"
      ],
      "metadata": {
        "id": "FoGmjfWuqeGu"
      },
      "execution_count": null,
      "outputs": []
    }
  ]
}