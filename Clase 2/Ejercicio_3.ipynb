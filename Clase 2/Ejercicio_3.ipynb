{
  "nbformat": 4,
  "nbformat_minor": 0,
  "metadata": {
    "colab": {
      "provenance": [],
      "gpuType": "T4"
    },
    "kernelspec": {
      "name": "python3",
      "display_name": "Python 3"
    },
    "language_info": {
      "name": "python"
    },
    "accelerator": "GPU"
  },
  "cells": [
    {
      "cell_type": "code",
      "execution_count": null,
      "metadata": {
        "id": "l0MTmgsYJvcs"
      },
      "outputs": [],
      "source": [
        "import numpy as np\n",
        "import keras\n",
        "from keras.preprocessing.image import ImageDataGenerator"
      ]
    },
    {
      "cell_type": "code",
      "source": [
        "# Crear un dataset con todas las imágenes de un directorio y escalarlas al ancho y alto necesario para la arquitectura elegida\n",
        "\n",
        "# Parámetros del notebook\n",
        "path = \"/content/test\"     # El directorio donde se leeran las imágenes\n",
        "                           # El directorio a leer deberá contar con subdirectorios, uno para cada clase\n",
        "                           # que se desee validar\n",
        "                           # Ejemplo:\n",
        "                           # ./Test\n",
        "                           #     |------ Clase1\n",
        "                           #     |           |------ Imagen1.jpg\n",
        "                           #     |           |------ Imagen2.jpg\n",
        "                           #     |           |------ Imagen3.jpg\n",
        "                           #     |------ Clase2\n",
        "                           #                 |------ Imagen4.jpg\n",
        "                           #                 |------ Imagen5.jpg\n",
        "                           #                 |------ Imagen6.jpg\n",
        "\n",
        "# 224x244x3 (RGB) son las dimensiones que espera VGG16\n",
        "width = 224   # ancho de las imágenes necesario para la arquitectura elegida\n",
        "height = 224  # alto de las imágenes necesario para la arquitectura elegida\n",
        "\n",
        "# Función de preprocesamiento de las imágenes (propia de cada arquitectura)\n",
        "preprocessing_function = keras.applications.vgg16.preprocess_input\n"
      ],
      "metadata": {
        "id": "5-_JWitXPy2p"
      },
      "execution_count": null,
      "outputs": []
    },
    {
      "cell_type": "code",
      "source": [
        "# Crear el \"cargador\" de imágenes\n",
        "datagen = ImageDataGenerator(preprocessing_function=preprocessing_function)\n",
        "\n",
        "generator = datagen.flow_from_directory(path, target_size=(height, width))\n",
        "\n",
        "# Obtener el listado de los archivos leidos\n",
        "file_names = generator.filenames\n",
        "\n",
        "# Cargar el nombre de las clases de ImageNet\n",
        "content = open(\"ImageNet.classes\").readlines()\n",
        "class_names = [line[9:].strip() for line in content]"
      ],
      "metadata": {
        "id": "18s_9tbBKB5w"
      },
      "execution_count": null,
      "outputs": []
    },
    {
      "cell_type": "code",
      "source": [
        "# Cargar el modelo preentrenado, puede usar cualquier arquitectura vista en clase, otra provista por keras o alguna otra creada por usted\n",
        "\n",
        "model = keras.applications.VGG16(\n",
        "    include_top=True,\n",
        "    weights=\"imagenet\",\n",
        "    input_tensor=None,\n",
        "    input_shape=None,\n",
        "    pooling=None,\n",
        "    classes=1000,\n",
        "    classifier_activation=\"softmax\",\n",
        ")\n",
        "model.summary()\n",
        "keras.utils.plot_model(model)"
      ],
      "metadata": {
        "id": "g0J6YIYTjJmG"
      },
      "execution_count": null,
      "outputs": []
    },
    {
      "cell_type": "code",
      "source": [
        "# Validación del conjunto de testeo\n",
        "\n",
        "# Usar el modelo cargado para hacer la predicción\n",
        "generator.reset()\n",
        "results = model.predict(generator)\n",
        "\n",
        "# Buscar la clase con valor más alto para cada muestra\n",
        "preds = np.argmax(results, axis=1)\n",
        "\n",
        "# Impresión de resultados\n",
        "print('Predicted class\\tProb. of class\\t(filename)')\n",
        "for i, p in enumerate(preds):\n",
        "    pred_index = p\n",
        "    pred_class = class_names[pred_index]\n",
        "    file_name = file_names[i]\n",
        "    prob = results[i][pred_index]\n",
        "    print(f'{pred_class}\\t{prob}\\t({file_name})')\n"
      ],
      "metadata": {
        "id": "DUnl4lcX7Et1"
      },
      "execution_count": null,
      "outputs": []
    }
  ]
}